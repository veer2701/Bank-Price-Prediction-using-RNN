{
 "cells": [
  {
   "cell_type": "markdown",
   "id": "ccb395a4",
   "metadata": {},
   "source": [
    "# Price prediction using LSTM for next 30 days - Banknifty"
   ]
  },
  {
   "cell_type": "code",
   "execution_count": 1,
   "id": "c7048b38",
   "metadata": {},
   "outputs": [
    {
     "name": "stdout",
     "output_type": "stream",
     "text": [
      "Requirement already satisfied: yfinance in c:\\users\\user\\anaconda3\\lib\\site-packages (0.1.70)\n",
      "Requirement already satisfied: pandas>=0.24.0 in c:\\users\\user\\anaconda3\\lib\\site-packages (from yfinance) (1.3.4)\n",
      "Requirement already satisfied: requests>=2.26 in c:\\users\\user\\appdata\\roaming\\python\\python39\\site-packages (from yfinance) (2.26.0)\n",
      "Requirement already satisfied: multitasking>=0.0.7 in c:\\users\\user\\anaconda3\\lib\\site-packages (from yfinance) (0.0.10)\n",
      "Requirement already satisfied: numpy>=1.15 in c:\\users\\user\\anaconda3\\lib\\site-packages (from yfinance) (1.20.3)\n",
      "Requirement already satisfied: lxml>=4.5.1 in c:\\users\\user\\anaconda3\\lib\\site-packages (from yfinance) (4.6.3)\n",
      "Requirement already satisfied: pytz>=2017.3 in c:\\users\\user\\anaconda3\\lib\\site-packages (from pandas>=0.24.0->yfinance) (2021.3)\n",
      "Requirement already satisfied: python-dateutil>=2.7.3 in c:\\users\\user\\anaconda3\\lib\\site-packages (from pandas>=0.24.0->yfinance) (2.8.2)\n",
      "Requirement already satisfied: certifi>=2017.4.17 in c:\\users\\user\\appdata\\roaming\\python\\python39\\site-packages (from requests>=2.26->yfinance) (2021.10.8)\n",
      "Requirement already satisfied: charset-normalizer~=2.0.0 in c:\\users\\user\\appdata\\roaming\\python\\python39\\site-packages (from requests>=2.26->yfinance) (2.0.9)\n",
      "Requirement already satisfied: idna<4,>=2.5 in c:\\users\\user\\appdata\\roaming\\python\\python39\\site-packages (from requests>=2.26->yfinance) (3.3)\n",
      "Requirement already satisfied: urllib3<1.27,>=1.21.1 in c:\\users\\user\\anaconda3\\lib\\site-packages (from requests>=2.26->yfinance) (1.26.7)\n",
      "Requirement already satisfied: six>=1.5 in c:\\users\\user\\anaconda3\\lib\\site-packages (from python-dateutil>=2.7.3->pandas>=0.24.0->yfinance) (1.16.0)\n"
     ]
    }
   ],
   "source": [
    "!pip install yfinance"
   ]
  },
  {
   "cell_type": "code",
   "execution_count": 2,
   "id": "e26b92ce",
   "metadata": {},
   "outputs": [],
   "source": [
    "# LinearRegression is a machine learning library for linear regression\n",
    "from sklearn.linear_model import LinearRegression\n",
    "\n",
    "# pandas and numpy are used for data manipulation\n",
    "import pandas as pd\n",
    "import numpy as np\n",
    "\n",
    "# matplotlib and seaborn are used for plotting graphs\n",
    "import matplotlib.pyplot as plt\n",
    "%matplotlib inline\n",
    "plt.style.use('seaborn-darkgrid')\n",
    "\n",
    "# yahoo finance is used to fetch data\n",
    "import yfinance as yf"
   ]
  },
  {
   "cell_type": "code",
   "execution_count": 3,
   "id": "4f3b7374",
   "metadata": {},
   "outputs": [],
   "source": [
    "#See the yahoo finance ticker for your stock symbol\n",
    "stock_symbol = '^NSEBANK'"
   ]
  },
  {
   "cell_type": "code",
   "execution_count": 4,
   "id": "994ec799",
   "metadata": {},
   "outputs": [
    {
     "name": "stdout",
     "output_type": "stream",
     "text": [
      "[*********************100%***********************]  1 of 1 completed\n"
     ]
    },
    {
     "data": {
      "text/html": [
       "<div>\n",
       "<style scoped>\n",
       "    .dataframe tbody tr th:only-of-type {\n",
       "        vertical-align: middle;\n",
       "    }\n",
       "\n",
       "    .dataframe tbody tr th {\n",
       "        vertical-align: top;\n",
       "    }\n",
       "\n",
       "    .dataframe thead th {\n",
       "        text-align: right;\n",
       "    }\n",
       "</style>\n",
       "<table border=\"1\" class=\"dataframe\">\n",
       "  <thead>\n",
       "    <tr style=\"text-align: right;\">\n",
       "      <th></th>\n",
       "      <th>Open</th>\n",
       "      <th>High</th>\n",
       "      <th>Low</th>\n",
       "      <th>Close</th>\n",
       "      <th>Volume</th>\n",
       "    </tr>\n",
       "    <tr>\n",
       "      <th>Date</th>\n",
       "      <th></th>\n",
       "      <th></th>\n",
       "      <th></th>\n",
       "      <th></th>\n",
       "      <th></th>\n",
       "    </tr>\n",
       "  </thead>\n",
       "  <tbody>\n",
       "    <tr>\n",
       "      <th>2022-01-21</th>\n",
       "      <td>37522.351562</td>\n",
       "      <td>37741.000000</td>\n",
       "      <td>37224.250000</td>\n",
       "      <td>37574.300781</td>\n",
       "      <td>157800</td>\n",
       "    </tr>\n",
       "    <tr>\n",
       "      <th>2022-01-24</th>\n",
       "      <td>37601.949219</td>\n",
       "      <td>37694.699219</td>\n",
       "      <td>36375.351562</td>\n",
       "      <td>36947.550781</td>\n",
       "      <td>231000</td>\n",
       "    </tr>\n",
       "    <tr>\n",
       "      <th>2022-01-25</th>\n",
       "      <td>36598.050781</td>\n",
       "      <td>37788.800781</td>\n",
       "      <td>36415.601562</td>\n",
       "      <td>37706.750000</td>\n",
       "      <td>267500</td>\n",
       "    </tr>\n",
       "    <tr>\n",
       "      <th>2022-01-27</th>\n",
       "      <td>37058.199219</td>\n",
       "      <td>38147.648438</td>\n",
       "      <td>37012.250000</td>\n",
       "      <td>37982.101562</td>\n",
       "      <td>346300</td>\n",
       "    </tr>\n",
       "    <tr>\n",
       "      <th>2022-01-28</th>\n",
       "      <td>38246.601562</td>\n",
       "      <td>38421.699219</td>\n",
       "      <td>37581.500000</td>\n",
       "      <td>37689.398438</td>\n",
       "      <td>294300</td>\n",
       "    </tr>\n",
       "  </tbody>\n",
       "</table>\n",
       "</div>"
      ],
      "text/plain": [
       "                    Open          High           Low         Close  Volume\n",
       "Date                                                                      \n",
       "2022-01-21  37522.351562  37741.000000  37224.250000  37574.300781  157800\n",
       "2022-01-24  37601.949219  37694.699219  36375.351562  36947.550781  231000\n",
       "2022-01-25  36598.050781  37788.800781  36415.601562  37706.750000  267500\n",
       "2022-01-27  37058.199219  38147.648438  37012.250000  37982.101562  346300\n",
       "2022-01-28  38246.601562  38421.699219  37581.500000  37689.398438  294300"
      ]
     },
     "execution_count": 4,
     "metadata": {},
     "output_type": "execute_result"
    }
   ],
   "source": [
    "# Read data\n",
    "Df = yf.download('^NSEBANK', '2008-01-01', '2022-01-31', auto_adjust=True)\n",
    "Df.tail()"
   ]
  },
  {
   "cell_type": "code",
   "execution_count": 5,
   "id": "67c78ee3",
   "metadata": {},
   "outputs": [
    {
     "data": {
      "text/html": [
       "<div>\n",
       "<style scoped>\n",
       "    .dataframe tbody tr th:only-of-type {\n",
       "        vertical-align: middle;\n",
       "    }\n",
       "\n",
       "    .dataframe tbody tr th {\n",
       "        vertical-align: top;\n",
       "    }\n",
       "\n",
       "    .dataframe thead th {\n",
       "        text-align: right;\n",
       "    }\n",
       "</style>\n",
       "<table border=\"1\" class=\"dataframe\">\n",
       "  <thead>\n",
       "    <tr style=\"text-align: right;\">\n",
       "      <th></th>\n",
       "      <th>Open</th>\n",
       "    </tr>\n",
       "    <tr>\n",
       "      <th>Date</th>\n",
       "      <th></th>\n",
       "    </tr>\n",
       "  </thead>\n",
       "  <tbody>\n",
       "    <tr>\n",
       "      <th>2022-01-21</th>\n",
       "      <td>37522.351562</td>\n",
       "    </tr>\n",
       "    <tr>\n",
       "      <th>2022-01-24</th>\n",
       "      <td>37601.949219</td>\n",
       "    </tr>\n",
       "    <tr>\n",
       "      <th>2022-01-25</th>\n",
       "      <td>36598.050781</td>\n",
       "    </tr>\n",
       "    <tr>\n",
       "      <th>2022-01-27</th>\n",
       "      <td>37058.199219</td>\n",
       "    </tr>\n",
       "    <tr>\n",
       "      <th>2022-01-28</th>\n",
       "      <td>38246.601562</td>\n",
       "    </tr>\n",
       "  </tbody>\n",
       "</table>\n",
       "</div>"
      ],
      "text/plain": [
       "                    Open\n",
       "Date                    \n",
       "2022-01-21  37522.351562\n",
       "2022-01-24  37601.949219\n",
       "2022-01-25  36598.050781\n",
       "2022-01-27  37058.199219\n",
       "2022-01-28  38246.601562"
      ]
     },
     "execution_count": 5,
     "metadata": {},
     "output_type": "execute_result"
    }
   ],
   "source": [
    "# Only keep close columns\n",
    "opn = Df[['Open']]\n",
    "opn.tail()"
   ]
  },
  {
   "cell_type": "code",
   "execution_count": 6,
   "id": "9da8e293",
   "metadata": {},
   "outputs": [
    {
     "data": {
      "image/png": "[encoded data removed]",
      "text/plain": [
       "<Figure size 1080x504 with 1 Axes>"
      ]
     },
     "metadata": {},
     "output_type": "display_data"
    }
   ],
   "source": [
    "# Drop rows with missing values\n",
    "opn = opn.dropna()\n",
    "\n",
    "# Plot the closing price of NMDC\n",
    "Df.Open.plot(figsize=(15, 7),color='g')\n",
    "plt.ylabel(\"BankNifty Prices\")\n",
    "plt.title(\"BankNifty Price Series\")\n",
    "plt.show()"
   ]
  },
  {
   "cell_type": "code",
   "execution_count": 7,
   "id": "358050bd",
   "metadata": {},
   "outputs": [],
   "source": [
    "from sklearn.preprocessing import MinMaxScaler"
   ]
  },
  {
   "cell_type": "code",
   "execution_count": 8,
   "id": "1adc159d",
   "metadata": {},
   "outputs": [],
   "source": [
    "normalizer=MinMaxScaler(feature_range=(0,1))\n",
    "opn_scaled=normalizer.fit_transform(np.array(opn).reshape(-1,1))"
   ]
  },
  {
   "cell_type": "code",
   "execution_count": 9,
   "id": "4a9aa6bc",
   "metadata": {},
   "outputs": [
    {
     "data": {
      "text/plain": [
       "(3176, 3176)"
      ]
     },
     "execution_count": 9,
     "metadata": {},
     "output_type": "execute_result"
    }
   ],
   "source": [
    "len(opn_scaled),len(opn)"
   ]
  },
  {
   "cell_type": "code",
   "execution_count": 10,
   "id": "c488e356",
   "metadata": {},
   "outputs": [],
   "source": [
    "train_size=int(len(opn_scaled)*0.7)\n",
    "test_size=len(opn_scaled)-train_size"
   ]
  },
  {
   "cell_type": "code",
   "execution_count": 11,
   "id": "bb2ef4f6",
   "metadata": {},
   "outputs": [
    {
     "data": {
      "text/plain": [
       "(2223, 953)"
      ]
     },
     "execution_count": 11,
     "metadata": {},
     "output_type": "execute_result"
    }
   ],
   "source": [
    "train_size,test_size"
   ]
  },
  {
   "cell_type": "code",
   "execution_count": 12,
   "id": "8ddf2c0a",
   "metadata": {},
   "outputs": [],
   "source": [
    "opn_train,opn_test=opn_scaled[0:train_size,:],opn_scaled[train_size:len(opn_scaled),:1]"
   ]
  },
  {
   "cell_type": "code",
   "execution_count": 13,
   "id": "bf3618dd",
   "metadata": {},
   "outputs": [
    {
     "data": {
      "text/plain": [
       "(2223, 953)"
      ]
     },
     "execution_count": 13,
     "metadata": {},
     "output_type": "execute_result"
    }
   ],
   "source": [
    "len(opn_train),len(opn_test)"
   ]
  },
  {
   "cell_type": "code",
   "execution_count": 14,
   "id": "18327fd6",
   "metadata": {},
   "outputs": [],
   "source": [
    "def create_opn(dataset,step):\n",
    "    xtrain,ytrain=[],[]\n",
    "    for i in range(len(dataset)-step-1):\n",
    "        a=dataset[i:(i+step),0]\n",
    "        xtrain.append(a)\n",
    "        ytrain.append(dataset[i+step,0])\n",
    "    return np.array(xtrain),np.array(ytrain)"
   ]
  },
  {
   "cell_type": "code",
   "execution_count": 15,
   "id": "e28bc776",
   "metadata": {},
   "outputs": [],
   "source": [
    "time_stamp=100\n",
    "x_train,y_train=create_opn(opn_train,time_stamp)\n",
    "x_test,y_test=create_opn(opn_test,time_stamp)"
   ]
  },
  {
   "cell_type": "code",
   "execution_count": 16,
   "id": "9576b0e2",
   "metadata": {},
   "outputs": [
    {
     "data": {
      "text/plain": [
       "((2122, 100), (2122,))"
      ]
     },
     "execution_count": 16,
     "metadata": {},
     "output_type": "execute_result"
    }
   ],
   "source": [
    "x_train.shape,y_train.shape"
   ]
  },
  {
   "cell_type": "code",
   "execution_count": 17,
   "id": "f3baa844",
   "metadata": {},
   "outputs": [
    {
     "data": {
      "text/plain": [
       "((852, 100), (852,))"
      ]
     },
     "execution_count": 17,
     "metadata": {},
     "output_type": "execute_result"
    }
   ],
   "source": [
    "x_test.shape,y_test.shape"
   ]
  },
  {
   "cell_type": "code",
   "execution_count": 18,
   "id": "1ce6f1d6",
   "metadata": {},
   "outputs": [],
   "source": [
    "x_train=x_train.reshape(x_train.shape[0],x_train.shape[1],1)\n",
    "x_test=x_test.reshape(x_test.shape[0],x_test.shape[1],1)"
   ]
  },
  {
   "cell_type": "code",
   "execution_count": 19,
   "id": "9128e78e",
   "metadata": {},
   "outputs": [],
   "source": [
    "from keras.models import Sequential\n",
    "from keras.layers import Dense,LSTM"
   ]
  },
  {
   "cell_type": "code",
   "execution_count": 20,
   "id": "d440b462",
   "metadata": {},
   "outputs": [
    {
     "name": "stdout",
     "output_type": "stream",
     "text": [
      "Model: \"sequential\"\n",
      "_________________________________________________________________\n",
      " Layer (type)                Output Shape              Param #   \n",
      "=================================================================\n",
      " lstm (LSTM)                 (None, 100, 50)           10400     \n",
      "                                                                 \n",
      " lstm_1 (LSTM)               (None, 100, 50)           20200     \n",
      "                                                                 \n",
      " lstm_2 (LSTM)               (None, 50)                20200     \n",
      "                                                                 \n",
      " dense (Dense)               (None, 1)                 51        \n",
      "                                                                 \n",
      "=================================================================\n",
      "Total params: 50,851\n",
      "Trainable params: 50,851\n",
      "Non-trainable params: 0\n",
      "_________________________________________________________________\n"
     ]
    }
   ],
   "source": [
    "model=Sequential()\n",
    "model.add(LSTM(units=50,return_sequences=True,input_shape=(x_train.shape[1],1)))\n",
    "model.add(LSTM(units=50,return_sequences=True))\n",
    "model.add(LSTM(units=50))\n",
    "model.add(Dense(units=1,activation='linear'))\n",
    "model.summary()"
   ]
  },
  {
   "cell_type": "code",
   "execution_count": 21,
   "id": "6d4a6a2f",
   "metadata": {},
   "outputs": [
    {
     "name": "stdout",
     "output_type": "stream",
     "text": [
      "Epoch 1/100\n",
      "34/34 [==============================] - 9s 144ms/step - loss: 0.0140 - val_loss: 0.0024\n",
      "Epoch 2/100\n",
      "34/34 [==============================] - 4s 106ms/step - loss: 4.4969e-04 - val_loss: 0.0022\n",
      "Epoch 3/100\n",
      "34/34 [==============================] - 4s 112ms/step - loss: 3.0027e-04 - val_loss: 0.0023\n",
      "Epoch 4/100\n",
      "34/34 [==============================] - 4s 110ms/step - loss: 2.8571e-04 - val_loss: 0.0024\n",
      "Epoch 5/100\n",
      "34/34 [==============================] - 4s 107ms/step - loss: 2.8783e-04 - val_loss: 0.0026\n",
      "Epoch 6/100\n",
      "34/34 [==============================] - 4s 108ms/step - loss: 2.8322e-04 - val_loss: 0.0021\n",
      "Epoch 7/100\n",
      "34/34 [==============================] - 4s 110ms/step - loss: 2.8298e-04 - val_loss: 0.0021\n",
      "Epoch 8/100\n",
      "34/34 [==============================] - 4s 111ms/step - loss: 2.6798e-04 - val_loss: 0.0025\n",
      "Epoch 9/100\n",
      "34/34 [==============================] - 4s 110ms/step - loss: 2.7434e-04 - val_loss: 0.0020\n",
      "Epoch 10/100\n",
      "34/34 [==============================] - 4s 108ms/step - loss: 2.5239e-04 - val_loss: 0.0019\n",
      "Epoch 11/100\n",
      "34/34 [==============================] - 4s 108ms/step - loss: 2.7214e-04 - val_loss: 0.0018\n",
      "Epoch 12/100\n",
      "34/34 [==============================] - 4s 111ms/step - loss: 2.6093e-04 - val_loss: 0.0017\n",
      "Epoch 13/100\n",
      "34/34 [==============================] - 4s 109ms/step - loss: 2.4556e-04 - val_loss: 0.0017\n",
      "Epoch 14/100\n",
      "34/34 [==============================] - 4s 109ms/step - loss: 2.5220e-04 - val_loss: 0.0016\n",
      "Epoch 15/100\n",
      "34/34 [==============================] - 4s 109ms/step - loss: 2.6037e-04 - val_loss: 0.0017\n",
      "Epoch 16/100\n",
      "34/34 [==============================] - 4s 118ms/step - loss: 2.2928e-04 - val_loss: 0.0016\n",
      "Epoch 17/100\n",
      "34/34 [==============================] - 4s 116ms/step - loss: 2.3890e-04 - val_loss: 0.0034\n",
      "Epoch 18/100\n",
      "34/34 [==============================] - 4s 108ms/step - loss: 2.9211e-04 - val_loss: 0.0018\n",
      "Epoch 19/100\n",
      "34/34 [==============================] - 4s 111ms/step - loss: 2.7676e-04 - val_loss: 0.0016: 2\n",
      "Epoch 20/100\n",
      "34/34 [==============================] - 4s 115ms/step - loss: 2.1649e-04 - val_loss: 0.0024\n",
      "Epoch 21/100\n",
      "34/34 [==============================] - 4s 111ms/step - loss: 2.1347e-04 - val_loss: 0.0013\n",
      "Epoch 22/100\n",
      "34/34 [==============================] - 4s 108ms/step - loss: 2.2883e-04 - val_loss: 0.0014\n",
      "Epoch 23/100\n",
      "34/34 [==============================] - 4s 109ms/step - loss: 2.0905e-04 - val_loss: 0.0012\n",
      "Epoch 24/100\n",
      "34/34 [==============================] - 4s 111ms/step - loss: 1.9794e-04 - val_loss: 0.0018\n",
      "Epoch 25/100\n",
      "34/34 [==============================] - 4s 114ms/step - loss: 2.0818e-04 - val_loss: 0.0012\n",
      "Epoch 26/100\n",
      "34/34 [==============================] - 4s 119ms/step - loss: 1.9793e-04 - val_loss: 0.0011\n",
      "Epoch 27/100\n",
      "34/34 [==============================] - 4s 107ms/step - loss: 2.0984e-04 - val_loss: 0.0014\n",
      "Epoch 28/100\n",
      "34/34 [==============================] - 4s 117ms/step - loss: 2.1113e-04 - val_loss: 0.0013\n",
      "Epoch 29/100\n",
      "34/34 [==============================] - 4s 115ms/step - loss: 1.8172e-04 - val_loss: 0.0011\n",
      "Epoch 30/100\n",
      "34/34 [==============================] - 4s 107ms/step - loss: 1.8714e-04 - val_loss: 0.0011\n",
      "Epoch 31/100\n",
      "34/34 [==============================] - 4s 109ms/step - loss: 1.8617e-04 - val_loss: 0.0012\n",
      "Epoch 32/100\n",
      "34/34 [==============================] - 4s 109ms/step - loss: 1.6963e-04 - val_loss: 0.0012\n",
      "Epoch 33/100\n",
      "34/34 [==============================] - 4s 111ms/step - loss: 1.7061e-04 - val_loss: 9.3423e-04\n",
      "Epoch 34/100\n",
      "34/34 [==============================] - 4s 107ms/step - loss: 1.8903e-04 - val_loss: 9.1870e-04\n",
      "Epoch 35/100\n",
      "34/34 [==============================] - 4s 109ms/step - loss: 1.8477e-04 - val_loss: 0.0014\n",
      "Epoch 36/100\n",
      "34/34 [==============================] - 4s 108ms/step - loss: 2.1125e-04 - val_loss: 0.0013\n",
      "Epoch 37/100\n",
      "34/34 [==============================] - 4s 111ms/step - loss: 1.6099e-04 - val_loss: 9.8422e-04\n",
      "Epoch 38/100\n",
      "34/34 [==============================] - 4s 110ms/step - loss: 1.5403e-04 - val_loss: 8.6943e-04\n",
      "Epoch 39/100\n",
      "34/34 [==============================] - 4s 107ms/step - loss: 1.7985e-04 - val_loss: 9.6739e-04\n",
      "Epoch 40/100\n",
      "34/34 [==============================] - 4s 109ms/step - loss: 1.7217e-04 - val_loss: 8.1300e-04\n",
      "Epoch 41/100\n",
      "34/34 [==============================] - 4s 110ms/step - loss: 1.4629e-04 - val_loss: 7.3770e-04\n",
      "Epoch 42/100\n",
      "34/34 [==============================] - 4s 110ms/step - loss: 1.4454e-04 - val_loss: 7.3386e-04\n",
      "Epoch 43/100\n",
      "34/34 [==============================] - 4s 110ms/step - loss: 1.4387e-04 - val_loss: 6.9169e-04\n",
      "Epoch 44/100\n",
      "34/34 [==============================] - 4s 110ms/step - loss: 1.4312e-04 - val_loss: 7.2893e-04\n",
      "Epoch 45/100\n",
      "34/34 [==============================] - 4s 110ms/step - loss: 1.8440e-04 - val_loss: 6.9751e-04\n",
      "Epoch 46/100\n",
      "34/34 [==============================] - 4s 111ms/step - loss: 1.3502e-04 - val_loss: 7.6730e-04\n",
      "Epoch 47/100\n",
      "34/34 [==============================] - 4s 109ms/step - loss: 1.3063e-04 - val_loss: 6.1673e-04\n",
      "Epoch 48/100\n",
      "34/34 [==============================] - 4s 111ms/step - loss: 1.3156e-04 - val_loss: 6.8537e-04\n",
      "Epoch 49/100\n",
      "34/34 [==============================] - 4s 108ms/step - loss: 1.2605e-04 - val_loss: 6.3445e-04\n",
      "Epoch 50/100\n",
      "34/34 [==============================] - 4s 113ms/step - loss: 1.2485e-04 - val_loss: 5.6871e-04\n",
      "Epoch 51/100\n",
      "34/34 [==============================] - 4s 108ms/step - loss: 1.3002e-04 - val_loss: 6.0463e-04\n",
      "Epoch 52/100\n",
      "34/34 [==============================] - 4s 111ms/step - loss: 1.3901e-04 - val_loss: 5.7602e-04\n",
      "Epoch 53/100\n",
      "34/34 [==============================] - 4s 109ms/step - loss: 1.1958e-04 - val_loss: 5.3503e-04\n",
      "Epoch 54/100\n",
      "34/34 [==============================] - 4s 112ms/step - loss: 1.1473e-04 - val_loss: 9.6463e-04\n",
      "Epoch 55/100\n",
      "34/34 [==============================] - 4s 110ms/step - loss: 1.3371e-04 - val_loss: 6.8568e-04\n",
      "Epoch 56/100\n",
      "34/34 [==============================] - 4s 109ms/step - loss: 1.1155e-04 - val_loss: 6.6356e-04\n",
      "Epoch 57/100\n",
      "34/34 [==============================] - 4s 111ms/step - loss: 1.1198e-04 - val_loss: 0.0013\n",
      "Epoch 58/100\n",
      "34/34 [==============================] - 4s 124ms/step - loss: 1.0913e-04 - val_loss: 8.1250e-04\n",
      "Epoch 59/100\n",
      "34/34 [==============================] - 4s 116ms/step - loss: 1.0219e-04 - val_loss: 6.8562e-04\n",
      "Epoch 60/100\n",
      "34/34 [==============================] - 4s 109ms/step - loss: 1.0114e-04 - val_loss: 0.0012\n",
      "Epoch 61/100\n",
      "34/34 [==============================] - 4s 108ms/step - loss: 1.1060e-04 - val_loss: 6.4306e-04\n",
      "Epoch 62/100\n",
      "34/34 [==============================] - 4s 107ms/step - loss: 1.0647e-04 - val_loss: 6.3874e-04\n",
      "Epoch 63/100\n",
      "34/34 [==============================] - 4s 110ms/step - loss: 1.2313e-04 - val_loss: 0.0010\n",
      "Epoch 64/100\n",
      "34/34 [==============================] - 4s 108ms/step - loss: 9.6624e-05 - val_loss: 7.0004e-04\n",
      "Epoch 65/100\n",
      "34/34 [==============================] - 4s 107ms/step - loss: 9.0281e-05 - val_loss: 4.1291e-04\n",
      "Epoch 66/100\n",
      "34/34 [==============================] - 4s 111ms/step - loss: 8.8064e-05 - val_loss: 5.7807e-04\n",
      "Epoch 67/100\n",
      "34/34 [==============================] - 4s 115ms/step - loss: 9.3099e-05 - val_loss: 3.9879e-04\n",
      "Epoch 68/100\n",
      "34/34 [==============================] - 4s 113ms/step - loss: 8.4977e-05 - val_loss: 3.7744e-04\n",
      "Epoch 69/100\n",
      "34/34 [==============================] - 4s 108ms/step - loss: 8.9500e-05 - val_loss: 3.8574e-04\n",
      "Epoch 70/100\n",
      "34/34 [==============================] - 4s 113ms/step - loss: 9.7235e-05 - val_loss: 4.5922e-04\n",
      "Epoch 71/100\n",
      "34/34 [==============================] - 4s 111ms/step - loss: 8.5316e-05 - val_loss: 4.7482e-04\n",
      "Epoch 72/100\n",
      "34/34 [==============================] - 4s 118ms/step - loss: 1.1757e-04 - val_loss: 3.9137e-04\n",
      "Epoch 73/100\n",
      "34/34 [==============================] - 4s 122ms/step - loss: 9.2236e-05 - val_loss: 0.0011\n",
      "Epoch 74/100\n",
      "34/34 [==============================] - 4s 117ms/step - loss: 8.5772e-05 - val_loss: 0.0011\n",
      "Epoch 75/100\n",
      "34/34 [==============================] - 4s 116ms/step - loss: 9.9932e-05 - val_loss: 6.9648e-04\n",
      "Epoch 76/100\n",
      "34/34 [==============================] - 4s 120ms/step - loss: 7.7400e-05 - val_loss: 3.3674e-04\n",
      "Epoch 77/100\n",
      "34/34 [==============================] - 4s 112ms/step - loss: 7.2810e-05 - val_loss: 4.7734e-04\n",
      "Epoch 78/100\n",
      "34/34 [==============================] - 4s 125ms/step - loss: 6.9496e-05 - val_loss: 3.2089e-04\n",
      "Epoch 79/100\n",
      "34/34 [==============================] - 4s 119ms/step - loss: 7.0647e-05 - val_loss: 3.1579e-04\n",
      "Epoch 80/100\n",
      "34/34 [==============================] - 4s 123ms/step - loss: 7.2724e-05 - val_loss: 9.6138e-04\n",
      "Epoch 81/100\n",
      "34/34 [==============================] - 4s 123ms/step - loss: 8.1095e-05 - val_loss: 4.9284e-04\n",
      "Epoch 82/100\n",
      "34/34 [==============================] - 4s 115ms/step - loss: 6.9158e-05 - val_loss: 3.4859e-04\n",
      "Epoch 83/100\n",
      "34/34 [==============================] - 4s 120ms/step - loss: 6.8063e-05 - val_loss: 4.3356e-04\n",
      "Epoch 84/100\n",
      "34/34 [==============================] - 4s 111ms/step - loss: 6.5879e-05 - val_loss: 2.8628e-04\n",
      "Epoch 85/100\n",
      "34/34 [==============================] - 4s 110ms/step - loss: 6.6512e-05 - val_loss: 2.8192e-04\n",
      "Epoch 86/100\n",
      "34/34 [==============================] - 4s 109ms/step - loss: 6.5629e-05 - val_loss: 3.2167e-04\n",
      "Epoch 87/100\n",
      "34/34 [==============================] - 4s 111ms/step - loss: 6.2798e-05 - val_loss: 6.1162e-04\n",
      "Epoch 88/100\n",
      "34/34 [==============================] - 4s 108ms/step - loss: 1.0775e-04 - val_loss: 4.9654e-04\n",
      "Epoch 89/100\n",
      "34/34 [==============================] - 4s 115ms/step - loss: 9.4891e-05 - val_loss: 3.3824e-04\n",
      "Epoch 90/100\n",
      "34/34 [==============================] - 4s 112ms/step - loss: 7.4461e-05 - val_loss: 3.2607e-04\n",
      "Epoch 91/100\n",
      "34/34 [==============================] - 5s 134ms/step - loss: 7.5964e-05 - val_loss: 2.7270e-04\n",
      "Epoch 92/100\n",
      "34/34 [==============================] - 4s 124ms/step - loss: 6.1211e-05 - val_loss: 3.1166e-04\n",
      "Epoch 93/100\n",
      "34/34 [==============================] - 4s 121ms/step - loss: 7.8701e-05 - val_loss: 3.9827e-04\n",
      "Epoch 94/100\n",
      "34/34 [==============================] - 4s 111ms/step - loss: 5.7436e-05 - val_loss: 2.6287e-04\n",
      "Epoch 95/100\n",
      "34/34 [==============================] - 4s 112ms/step - loss: 6.0204e-05 - val_loss: 2.5929e-04\n",
      "Epoch 96/100\n",
      "34/34 [==============================] - 4s 114ms/step - loss: 8.7879e-05 - val_loss: 2.5987e-04\n",
      "Epoch 97/100\n",
      "34/34 [==============================] - 4s 118ms/step - loss: 6.0725e-05 - val_loss: 2.4977e-04\n",
      "Epoch 98/100\n",
      "34/34 [==============================] - 4s 113ms/step - loss: 5.9848e-05 - val_loss: 2.4901e-04\n",
      "Epoch 99/100\n",
      "34/34 [==============================] - 6s 170ms/step - loss: 6.3381e-05 - val_loss: 2.8095e-04\n",
      "Epoch 100/100\n",
      "34/34 [==============================] - 4s 128ms/step - loss: 6.4144e-05 - val_loss: 2.9569e-04\n"
     ]
    },
    {
     "data": {
      "text/plain": [
       "<keras.callbacks.History at 0x1eccf40c8b0>"
      ]
     },
     "execution_count": 21,
     "metadata": {},
     "output_type": "execute_result"
    }
   ],
   "source": [
    "model.compile(loss='mean_squared_error',optimizer='adam')\n",
    "model.fit(x_train,y_train,validation_data=(x_test,y_test),epochs=100,batch_size=64)"
   ]
  },
  {
   "cell_type": "code",
   "execution_count": 22,
   "id": "aeb9c6c8",
   "metadata": {},
   "outputs": [
    {
     "data": {
      "text/plain": [
       "[<matplotlib.lines.Line2D at 0x1ecd827c490>]"
      ]
     },
     "execution_count": 22,
     "metadata": {},
     "output_type": "execute_result"
    },
    {
     "data": {
      "image/png": "[encoded data removed]",
      "text/plain": [
       "<Figure size 432x288 with 1 Axes>"
      ]
     },
     "metadata": {},
     "output_type": "display_data"
    }
   ],
   "source": [
    "loss=model.history.history['loss']\n",
    "plt.plot(loss)"
   ]
  },
  {
   "cell_type": "code",
   "execution_count": 23,
   "id": "804845e7",
   "metadata": {},
   "outputs": [],
   "source": [
    "#Predicitng on train and test data\n",
    "train_predict = model.predict(x_train)\n",
    "test_predict = model.predict(x_test)"
   ]
  },
  {
   "cell_type": "code",
   "execution_count": 24,
   "id": "e98c9592",
   "metadata": {},
   "outputs": [],
   "source": [
    "train_predict=normalizer.inverse_transform(train_predict)\n",
    "test_predict=normalizer.inverse_transform(test_predict)"
   ]
  },
  {
   "cell_type": "code",
   "execution_count": 25,
   "id": "b1d02f04",
   "metadata": {},
   "outputs": [
    {
     "data": {
      "text/plain": [
       "[<matplotlib.lines.Line2D at 0x1ecd953be80>]"
      ]
     },
     "execution_count": 25,
     "metadata": {},
     "output_type": "execute_result"
    },
    {
     "data": {
      "image/png": "[encoded data removed]",
      "text/plain": [
       "<Figure size 432x288 with 1 Axes>"
      ]
     },
     "metadata": {},
     "output_type": "display_data"
    }
   ],
   "source": [
    "plt.plot(normalizer.inverse_transform(opn_scaled))\n",
    "plt.plot(train_predict)\n",
    "plt.plot(test_predict)"
   ]
  },
  {
   "cell_type": "code",
   "execution_count": 26,
   "id": "00476d08",
   "metadata": {},
   "outputs": [
    {
     "data": {
      "text/plain": [
       "numpy.ndarray"
      ]
     },
     "execution_count": 26,
     "metadata": {},
     "output_type": "execute_result"
    }
   ],
   "source": [
    "type(train_predict)"
   ]
  },
  {
   "cell_type": "code",
   "execution_count": 27,
   "id": "3a12d1d2",
   "metadata": {},
   "outputs": [],
   "source": [
    "test=np.vstack((train_predict,test_predict))"
   ]
  },
  {
   "cell_type": "code",
   "execution_count": 28,
   "id": "af2a14b0",
   "metadata": {},
   "outputs": [
    {
     "data": {
      "text/plain": [
       "[<matplotlib.lines.Line2D at 0x1ecd95923a0>]"
      ]
     },
     "execution_count": 28,
     "metadata": {},
     "output_type": "execute_result"
    },
    {
     "data": {
      "image/png": "[encoded data removed]",
      "text/plain": [
       "<Figure size 432x288 with 1 Axes>"
      ]
     },
     "metadata": {},
     "output_type": "display_data"
    }
   ],
   "source": [
    "plt.plot(normalizer.inverse_transform(opn_scaled))\n",
    "plt.plot(test)"
   ]
  },
  {
   "cell_type": "code",
   "execution_count": 29,
   "id": "6d4ce450",
   "metadata": {},
   "outputs": [
    {
     "data": {
      "text/plain": [
       "953"
      ]
     },
     "execution_count": 29,
     "metadata": {},
     "output_type": "execute_result"
    }
   ],
   "source": [
    "len(opn_test)"
   ]
  },
  {
   "cell_type": "code",
   "execution_count": 36,
   "id": "38f8719a",
   "metadata": {},
   "outputs": [],
   "source": [
    "#Getting the last 100 days records\n",
    "fut_inp = opn_test[853:]"
   ]
  },
  {
   "cell_type": "code",
   "execution_count": 37,
   "id": "43f5a791",
   "metadata": {},
   "outputs": [],
   "source": [
    "fut_inp = fut_inp.reshape(1,-1)"
   ]
  },
  {
   "cell_type": "code",
   "execution_count": 38,
   "id": "2681132e",
   "metadata": {},
   "outputs": [],
   "source": [
    "tmp_inp = list(fut_inp)"
   ]
  },
  {
   "cell_type": "code",
   "execution_count": 39,
   "id": "976e895c",
   "metadata": {},
   "outputs": [
    {
     "data": {
      "text/plain": [
       "(1, 100)"
      ]
     },
     "execution_count": 39,
     "metadata": {},
     "output_type": "execute_result"
    }
   ],
   "source": [
    "fut_inp.shape"
   ]
  },
  {
   "cell_type": "code",
   "execution_count": 40,
   "id": "29e8d8fc",
   "metadata": {},
   "outputs": [],
   "source": [
    "#Creating list of the last 100 data\n",
    "tmp_inp = tmp_inp[0].tolist()"
   ]
  },
  {
   "cell_type": "code",
   "execution_count": 41,
   "id": "2f8e447f",
   "metadata": {},
   "outputs": [
    {
     "name": "stdout",
     "output_type": "stream",
     "text": [
      "[[0.901825487613678], [0.8967477679252625], [0.8830699920654297], [0.868378221988678], [0.8551844954490662], [0.8449664115905762], [0.8380601406097412], [0.8338643312454224], [0.8312831521034241], [0.8291575908660889], [0.8265819549560547], [0.823067307472229], [0.8185526728630066], [0.8133022785186768], [0.8077463507652283], [0.8023198843002319], [0.7973454594612122], [0.7929770350456238], [0.7892052531242371], [0.7859004735946655], [0.7828778624534607], [0.7799554467201233], [0.7769978046417236], [0.7739362120628357], [0.7707667350769043], [0.7675326466560364], [0.7643004655838013], [0.7611356377601624], [0.7580859661102295], [0.7551737427711487]]\n"
     ]
    }
   ],
   "source": [
    "#Predicting next 30 days price suing the current data\n",
    "#It will predict in sliding window manner (algorithm) with stride 1\n",
    "lst_output=[]\n",
    "n_steps=100\n",
    "i=0\n",
    "while(i<30):\n",
    "    \n",
    "    if(len(tmp_inp)>100):\n",
    "        fut_inp = np.array(tmp_inp[1:])\n",
    "        fut_inp=fut_inp.reshape(1,-1)\n",
    "        fut_inp = fut_inp.reshape((1, n_steps, 1))\n",
    "        yhat = model.predict(fut_inp, verbose=0)\n",
    "        tmp_inp.extend(yhat[0].tolist())\n",
    "        tmp_inp = tmp_inp[1:]\n",
    "        lst_output.extend(yhat.tolist())\n",
    "        i=i+1\n",
    "    else:\n",
    "        fut_inp = fut_inp.reshape((1, n_steps,1))\n",
    "        yhat = model.predict(fut_inp, verbose=0)\n",
    "        tmp_inp.extend(yhat[0].tolist())\n",
    "        lst_output.extend(yhat.tolist())\n",
    "        i=i+1\n",
    "    \n",
    "\n",
    "print(lst_output)"
   ]
  },
  {
   "cell_type": "code",
   "execution_count": 42,
   "id": "84ab71ea",
   "metadata": {},
   "outputs": [
    {
     "data": {
      "text/plain": [
       "3176"
      ]
     },
     "execution_count": 42,
     "metadata": {},
     "output_type": "execute_result"
    }
   ],
   "source": [
    "len(opn_scaled)"
   ]
  },
  {
   "cell_type": "code",
   "execution_count": 43,
   "id": "f6c4d103",
   "metadata": {},
   "outputs": [],
   "source": [
    "#Creating a dummy plane to plot graph one after another\n",
    "plot_new=np.arange(1,101)\n",
    "plot_pred=np.arange(101,131)"
   ]
  },
  {
   "cell_type": "code",
   "execution_count": 44,
   "id": "b32bb742",
   "metadata": {},
   "outputs": [
    {
     "data": {
      "text/plain": [
       "[<matplotlib.lines.Line2D at 0x1ecdb81b670>]"
      ]
     },
     "execution_count": 44,
     "metadata": {},
     "output_type": "execute_result"
    },
    {
     "data": {
      "image/png": "[encoded data removed]",
      "text/plain": [
       "<Figure size 432x288 with 1 Axes>"
      ]
     },
     "metadata": {},
     "output_type": "display_data"
    }
   ],
   "source": [
    "plt.plot(plot_new, normalizer.inverse_transform(opn_scaled[3076:]))\n",
    "plt.plot(plot_pred, normalizer.inverse_transform(lst_output))"
   ]
  },
  {
   "cell_type": "code",
   "execution_count": 45,
   "id": "6cf884ef",
   "metadata": {},
   "outputs": [],
   "source": [
    "opn_new=opn_scaled.tolist()"
   ]
  },
  {
   "cell_type": "code",
   "execution_count": 46,
   "id": "f89e2c02",
   "metadata": {},
   "outputs": [
    {
     "data": {
      "text/plain": [
       "3176"
      ]
     },
     "execution_count": 46,
     "metadata": {},
     "output_type": "execute_result"
    }
   ],
   "source": [
    "len(opn_new)"
   ]
  },
  {
   "cell_type": "code",
   "execution_count": 47,
   "id": "113089c1",
   "metadata": {},
   "outputs": [
    {
     "data": {
      "text/plain": [
       "[<matplotlib.lines.Line2D at 0x1ecdb7f6d90>]"
      ]
     },
     "execution_count": 47,
     "metadata": {},
     "output_type": "execute_result"
    },
    {
     "data": {
      "image/png": "[encoded data removed]",
      "text/plain": [
       "<Figure size 432x288 with 1 Axes>"
      ]
     },
     "metadata": {},
     "output_type": "display_data"
    }
   ],
   "source": [
    "#Entends helps us to fill the missing value with approx value\n",
    "opn_new.extend(lst_output)\n",
    "plt.plot(opn_new[3126:])"
   ]
  },
  {
   "cell_type": "code",
   "execution_count": 48,
   "id": "ec32903e",
   "metadata": {},
   "outputs": [],
   "source": [
    "#Creating final data for plotting\n",
    "final_graph = normalizer.inverse_transform(opn_new).tolist()"
   ]
  },
  {
   "cell_type": "code",
   "execution_count": 49,
   "id": "3844265c",
   "metadata": {},
   "outputs": [
    {
     "data": {
      "text/plain": [
       "<matplotlib.legend.Legend at 0x1ecda7c2a90>"
      ]
     },
     "execution_count": 49,
     "metadata": {},
     "output_type": "execute_result"
    },
    {
     "data": {
      "image/png": "[encoded data removed]",
      "text/plain": [
       "<Figure size 432x288 with 1 Axes>"
      ]
     },
     "metadata": {},
     "output_type": "display_data"
    }
   ],
   "source": [
    "#Plotting final results with predicted value after 30 Days\n",
    "plt.plot(final_graph,)\n",
    "plt.ylabel(\"Price\")\n",
    "plt.xlabel(\"Time\")\n",
    "plt.title(\"{0} prediction of next month open\".format(stock_symbol))\n",
    "plt.axhline(y=final_graph[len(final_graph)-1], color = 'red', linestyle = ':', label = 'NEXT 30D: {0}'.format(round(float(*final_graph[len(final_graph)-1]),2)))\n",
    "plt.legend()"
   ]
  },
  {
   "cell_type": "code",
   "execution_count": null,
   "id": "3392e8f3",
   "metadata": {},
   "outputs": [],
   "source": []
  },
  {
   "cell_type": "code",
   "execution_count": null,
   "id": "c469fb52",
   "metadata": {},
   "outputs": [],
   "source": []
  }
 ],
 "metadata": {
  "kernelspec": {
   "display_name": "Python 3 (ipykernel)",
   "language": "python",
   "name": "python3"
  },
  "language_info": {
   "codemirror_mode": {
    "name": "ipython",
    "version": 3
   },
   "file_extension": ".py",
   "mimetype": "text/x-python",
   "name": "python",
   "nbconvert_exporter": "python",
   "pygments_lexer": "ipython3",
   "version": "3.9.7"
  }
 },
 "nbformat": 4,
 "nbformat_minor": 5
}
