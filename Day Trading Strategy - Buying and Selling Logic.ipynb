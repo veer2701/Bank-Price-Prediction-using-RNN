{
 "cells": [
  {
   "cell_type": "markdown",
   "id": "7f0d6f68",
   "metadata": {},
   "source": [
    "# Day Trading Strategy - Buying and Selling Logic"
   ]
  },
  {
   "cell_type": "code",
   "execution_count": 12,
   "id": "ce68445c",
   "metadata": {},
   "outputs": [],
   "source": [
    "# !pip install nsepy"
   ]
  },
  {
   "cell_type": "markdown",
   "id": "74d35d52",
   "metadata": {},
   "source": [
    "# Step 1 - Importing the packages"
   ]
  },
  {
   "cell_type": "code",
   "execution_count": 2,
   "id": "11e09949",
   "metadata": {},
   "outputs": [],
   "source": [
    "from pandas_datareader import data as pdr\n",
    "import pandas as pd\n",
    "from datetime import date\n",
    "from nsepy import get_history"
   ]
  },
  {
   "cell_type": "markdown",
   "id": "451e2d67",
   "metadata": {},
   "source": [
    "# Step 2 - Download Nifty OHLC data"
   ]
  },
  {
   "cell_type": "code",
   "execution_count": 5,
   "id": "1bf6f35d",
   "metadata": {},
   "outputs": [],
   "source": [
    "data=pdr.get_data_yahoo(\"^NSEI\",\"2010-01-01\",\"2022-03-29\")\n",
    "\n",
    "nifty_opt = get_history(symbol=\"NIFTY\",\n",
    "                        start=date(2010,1,1),\n",
    "                        end=date(2022,3,29),\n",
    "                        index=True,\n",
    "                        option_type='CE',\n",
    "                        strike_price=17500,\n",
    "                        expiry_date=date(2022,3,31))"
   ]
  },
  {
   "cell_type": "code",
   "execution_count": 6,
   "id": "1bf9046b",
   "metadata": {},
   "outputs": [
    {
     "data": {
      "text/html": [
       "<div>\n",
       "<style scoped>\n",
       "    .dataframe tbody tr th:only-of-type {\n",
       "        vertical-align: middle;\n",
       "    }\n",
       "\n",
       "    .dataframe tbody tr th {\n",
       "        vertical-align: top;\n",
       "    }\n",
       "\n",
       "    .dataframe thead th {\n",
       "        text-align: right;\n",
       "    }\n",
       "</style>\n",
       "<table border=\"1\" class=\"dataframe\">\n",
       "  <thead>\n",
       "    <tr style=\"text-align: right;\">\n",
       "      <th></th>\n",
       "      <th>Symbol</th>\n",
       "      <th>Expiry</th>\n",
       "      <th>Option Type</th>\n",
       "      <th>Strike Price</th>\n",
       "      <th>Open</th>\n",
       "      <th>High</th>\n",
       "      <th>Low</th>\n",
       "      <th>Close</th>\n",
       "      <th>Last</th>\n",
       "      <th>Settle Price</th>\n",
       "      <th>Number of Contracts</th>\n",
       "      <th>Turnover</th>\n",
       "      <th>Premium Turnover</th>\n",
       "      <th>Open Interest</th>\n",
       "      <th>Change in OI</th>\n",
       "      <th>Underlying</th>\n",
       "    </tr>\n",
       "    <tr>\n",
       "      <th>Date</th>\n",
       "      <th></th>\n",
       "      <th></th>\n",
       "      <th></th>\n",
       "      <th></th>\n",
       "      <th></th>\n",
       "      <th></th>\n",
       "      <th></th>\n",
       "      <th></th>\n",
       "      <th></th>\n",
       "      <th></th>\n",
       "      <th></th>\n",
       "      <th></th>\n",
       "      <th></th>\n",
       "      <th></th>\n",
       "      <th></th>\n",
       "      <th></th>\n",
       "    </tr>\n",
       "  </thead>\n",
       "  <tbody>\n",
       "    <tr>\n",
       "      <th>2022-03-23</th>\n",
       "      <td>NIFTY</td>\n",
       "      <td>2022-03-31</td>\n",
       "      <td>CE</td>\n",
       "      <td>17500.0</td>\n",
       "      <td>218.65</td>\n",
       "      <td>227.25</td>\n",
       "      <td>133.40</td>\n",
       "      <td>144.60</td>\n",
       "      <td>138.00</td>\n",
       "      <td>144.60</td>\n",
       "      <td>164399</td>\n",
       "      <td>1.452311e+11</td>\n",
       "      <td>1.381949e+09</td>\n",
       "      <td>2201350</td>\n",
       "      <td>177350</td>\n",
       "      <td>NaN</td>\n",
       "    </tr>\n",
       "    <tr>\n",
       "      <th>2022-03-24</th>\n",
       "      <td>NIFTY</td>\n",
       "      <td>2022-03-31</td>\n",
       "      <td>CE</td>\n",
       "      <td>17500.0</td>\n",
       "      <td>119.85</td>\n",
       "      <td>144.95</td>\n",
       "      <td>80.65</td>\n",
       "      <td>93.25</td>\n",
       "      <td>86.50</td>\n",
       "      <td>93.25</td>\n",
       "      <td>313091</td>\n",
       "      <td>2.756351e+11</td>\n",
       "      <td>1.680494e+09</td>\n",
       "      <td>4199750</td>\n",
       "      <td>1998400</td>\n",
       "      <td>NaN</td>\n",
       "    </tr>\n",
       "    <tr>\n",
       "      <th>2022-03-25</th>\n",
       "      <td>NIFTY</td>\n",
       "      <td>2022-03-31</td>\n",
       "      <td>CE</td>\n",
       "      <td>17500.0</td>\n",
       "      <td>100.15</td>\n",
       "      <td>100.15</td>\n",
       "      <td>46.50</td>\n",
       "      <td>56.50</td>\n",
       "      <td>58.00</td>\n",
       "      <td>56.50</td>\n",
       "      <td>869428</td>\n",
       "      <td>7.635569e+11</td>\n",
       "      <td>2.807428e+09</td>\n",
       "      <td>5558550</td>\n",
       "      <td>1358800</td>\n",
       "      <td>NaN</td>\n",
       "    </tr>\n",
       "    <tr>\n",
       "      <th>2022-03-28</th>\n",
       "      <td>NIFTY</td>\n",
       "      <td>2022-03-31</td>\n",
       "      <td>CE</td>\n",
       "      <td>17500.0</td>\n",
       "      <td>58.00</td>\n",
       "      <td>58.00</td>\n",
       "      <td>23.75</td>\n",
       "      <td>41.70</td>\n",
       "      <td>40.75</td>\n",
       "      <td>41.70</td>\n",
       "      <td>1344603</td>\n",
       "      <td>1.179008e+12</td>\n",
       "      <td>2.480355e+09</td>\n",
       "      <td>5986250</td>\n",
       "      <td>427700</td>\n",
       "      <td>NaN</td>\n",
       "    </tr>\n",
       "    <tr>\n",
       "      <th>2022-03-29</th>\n",
       "      <td>NIFTY</td>\n",
       "      <td>2022-03-31</td>\n",
       "      <td>CE</td>\n",
       "      <td>17500.0</td>\n",
       "      <td>46.65</td>\n",
       "      <td>53.95</td>\n",
       "      <td>23.15</td>\n",
       "      <td>37.40</td>\n",
       "      <td>40.60</td>\n",
       "      <td>37.40</td>\n",
       "      <td>1577188</td>\n",
       "      <td>1.382931e+12</td>\n",
       "      <td>2.891095e+09</td>\n",
       "      <td>6710575</td>\n",
       "      <td>724325</td>\n",
       "      <td>17325.3</td>\n",
       "    </tr>\n",
       "  </tbody>\n",
       "</table>\n",
       "</div>"
      ],
      "text/plain": [
       "           Symbol      Expiry Option Type  Strike Price    Open    High  \\\n",
       "Date                                                                      \n",
       "2022-03-23  NIFTY  2022-03-31          CE       17500.0  218.65  227.25   \n",
       "2022-03-24  NIFTY  2022-03-31          CE       17500.0  119.85  144.95   \n",
       "2022-03-25  NIFTY  2022-03-31          CE       17500.0  100.15  100.15   \n",
       "2022-03-28  NIFTY  2022-03-31          CE       17500.0   58.00   58.00   \n",
       "2022-03-29  NIFTY  2022-03-31          CE       17500.0   46.65   53.95   \n",
       "\n",
       "               Low   Close    Last  Settle Price Number of Contracts  \\\n",
       "Date                                                                   \n",
       "2022-03-23  133.40  144.60  138.00        144.60              164399   \n",
       "2022-03-24   80.65   93.25   86.50         93.25              313091   \n",
       "2022-03-25   46.50   56.50   58.00         56.50              869428   \n",
       "2022-03-28   23.75   41.70   40.75         41.70             1344603   \n",
       "2022-03-29   23.15   37.40   40.60         37.40             1577188   \n",
       "\n",
       "                Turnover  Premium Turnover Open Interest Change in OI  \\\n",
       "Date                                                                    \n",
       "2022-03-23  1.452311e+11      1.381949e+09       2201350       177350   \n",
       "2022-03-24  2.756351e+11      1.680494e+09       4199750      1998400   \n",
       "2022-03-25  7.635569e+11      2.807428e+09       5558550      1358800   \n",
       "2022-03-28  1.179008e+12      2.480355e+09       5986250       427700   \n",
       "2022-03-29  1.382931e+12      2.891095e+09       6710575       724325   \n",
       "\n",
       "            Underlying  \n",
       "Date                    \n",
       "2022-03-23         NaN  \n",
       "2022-03-24         NaN  \n",
       "2022-03-25         NaN  \n",
       "2022-03-28         NaN  \n",
       "2022-03-29     17325.3  "
      ]
     },
     "execution_count": 6,
     "metadata": {},
     "output_type": "execute_result"
    }
   ],
   "source": [
    "nifty_opt.tail()"
   ]
  },
  {
   "cell_type": "markdown",
   "id": "ff1d2ccf",
   "metadata": {},
   "source": [
    "# Step 3 - Create a new dataframe"
   ]
  },
  {
   "cell_type": "code",
   "execution_count": 7,
   "id": "cebe4a2e",
   "metadata": {},
   "outputs": [],
   "source": [
    "df=pd.DataFrame()\n",
    "\n",
    "df['Underlying']=data['Adj Close']\n",
    "\n",
    "df[['Last','Settle Price','Number of Contracts']]=nifty_opt[['Last','Settle Price','Number of Contracts']]"
   ]
  },
  {
   "cell_type": "markdown",
   "id": "ebd8ff58",
   "metadata": {},
   "source": [
    "# Step 4 - Define two moving averages"
   ]
  },
  {
   "cell_type": "code",
   "execution_count": 8,
   "id": "46f5b107",
   "metadata": {},
   "outputs": [],
   "source": [
    "m=15\n",
    "\n",
    "n=20\n",
    "\n",
    "df['SMA'] = df['Underlying'].rolling(window=m,center=False).mean()\n",
    "\n",
    "df['LMA'] = df['Underlying'].rolling(window=n,center=False).mean()\n",
    "\n",
    "df['SMA2'] = df['Underlying'].rolling(window=m,center=False).mean().shift(1)\n",
    "\n",
    "df['LMA2'] = df['Underlying'].rolling(window=n,center=False).mean().shift(1)\n",
    "\n",
    "df = df.iloc[n:]"
   ]
  },
  {
   "cell_type": "markdown",
   "id": "821a9994",
   "metadata": {},
   "source": [
    "# Step 5 - Define the buying and selling logic"
   ]
  },
  {
   "cell_type": "code",
   "execution_count": 9,
   "id": "c4e160fd",
   "metadata": {},
   "outputs": [],
   "source": [
    "df['Buy'] = df.apply(lambda x : 1 if x['SMA'] > x['LMA'] and x['SMA2'] < x['LMA2'] else 0, axis=1)\n",
    "\n",
    "df['Sell'] = df.apply(lambda y : -1 if y['SMA'] < y['LMA'] and y['SMA2'] > y['LMA2'] else 0, axis=1)\n",
    "\n",
    "df['Signal']=df['Buy']+df['Sell']\n",
    "\n",
    "\n",
    "df=df[df['Last'].notnull()]\n",
    "\n",
    "df=df[df['Number of Contracts']!=0]\n",
    "\n",
    "df=75*df[df['Last']!=0]"
   ]
  },
  {
   "cell_type": "markdown",
   "id": "6847bcb3",
   "metadata": {},
   "source": [
    "# Step 6 - Computing the cumulative returns"
   ]
  },
  {
   "cell_type": "code",
   "execution_count": 10,
   "id": "1c9bc440",
   "metadata": {},
   "outputs": [
    {
     "data": {
      "text/plain": [
       "<AxesSubplot:xlabel='Date'>"
      ]
     },
     "execution_count": 10,
     "metadata": {},
     "output_type": "execute_result"
    },
    {
     "data": {
      "image/png": "[encoded data removed]",
      "text/plain": [
       "<Figure size 432x288 with 1 Axes>"
      ]
     },
     "metadata": {
      "needs_background": "light"
     },
     "output_type": "display_data"
    }
   ],
   "source": [
    "df['Daily Returns']=df['Underlying'].pct_change()\n",
    "\n",
    "df['Strategy Returns']= df['Daily Returns']*df['Signal'].shift(1)\n",
    "\n",
    "df['Strategy Returns'].cumsum().plot()"
   ]
  },
  {
   "cell_type": "code",
   "execution_count": null,
   "id": "9da2c50a",
   "metadata": {},
   "outputs": [],
   "source": []
  }
 ],
 "metadata": {
  "kernelspec": {
   "display_name": "Python 3 (ipykernel)",
   "language": "python",
   "name": "python3"
  },
  "language_info": {
   "codemirror_mode": {
    "name": "ipython",
    "version": 3
   },
   "file_extension": ".py",
   "mimetype": "text/x-python",
   "name": "python",
   "nbconvert_exporter": "python",
   "pygments_lexer": "ipython3",
   "version": "3.9.7"
  }
 },
 "nbformat": 4,
 "nbformat_minor": 5
}
