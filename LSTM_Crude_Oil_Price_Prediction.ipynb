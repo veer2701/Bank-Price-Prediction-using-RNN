{
 "cells": [
  {
   "cell_type": "markdown",
   "id": "70b5cbe5",
   "metadata": {},
   "source": [
    "# LSTM Crude Oil Price Prediction\n",
    "\n",
    "Prediction of future crude oil price is considered a significant challenge due to the extremely complex, chaotic, and dynamic nature of the market and stakeholder's perception. The crude oil price changes every minute, and millions of shares ownerships are traded everyday. The market price for commodity such as crude oil is influenced by many factors including news, supply-and-demand gap, labour costs, amount of remaining resources, as well as stakeholders' perception. Therefore, various indicators for technical analysis have been utilized for the purpose of predicting the future crude oil price. Recently, many researchers have turned to machine learning approached to cater to this problem. This study demonstrated the use of RNN-LSTM networks for predicting the crude oil price based on historical data alongside other technical analysis indicators. This study aims to certify the capability of a prediction model built based on the RNN-LSTM network to predict the future price of crude oil. The developed model is trained and evaluated against accuracy matrices to assess the capability of the network to provide an improvement of the accuracy of crude oil price prediction as compared to other strategies. The result obtained from the model shows a promising prediction capability of the RNN-LSTM algorithm for predicting crude oil price movement.\n",
    "\n",
    "## Data Source\n",
    "U.S. Energy Information Administration, Crude Oil Prices: Brent - Europe [DCOILBRENTEU], retrieved from FRED, Federal Reserve Bank of St. Louis; https://fred.stlouisfed.org/series/DCOILBRENTEU, March 18, 2022."
   ]
  },
  {
   "cell_type": "code",
   "execution_count": 2,
   "id": "0fa214ef",
   "metadata": {},
   "outputs": [],
   "source": [
    "from io import StringIO\n",
    "import requests\n",
    "import json\n",
    "import pandas as pd\n",
    "\n",
    "# @hidden_cell\n",
    "# This function accesses a file in your Object Storage. The definition contains your credentials.\n",
    "# You might want to remove those credentials before you share your notebook.\n",
    "def get_object_storage_file_with_credentials_d3bd5b94a9334de59a55a7fed2bedeaa(container, filename):\n",
    "    \"\"\"This functions returns a StringIO object containing\n",
    "    the file content from Bluemix Object Storage.\"\"\"\n",
    "\n",
    "    url1 = ''.join(['https://identity.open.softlayer.com', '/v3/auth/tokens'])\n",
    "    data = {'auth': {'identity': {'methods': ['password'],\n",
    "            'password': {'user': {'name': 'member_adcb54bd899a7e39e31582bccad1577f68f1992f','domain': {'id': '4619da2fa8524beda11c89d2d1969c5b'},\n",
    "            'password': 'P*/m8,!#7s6H9poz'}}}}}\n",
    "    headers1 = {'Content-Type': 'application/json'}\n",
    "    resp1 = requests.post(url=url1, data=json.dumps(data), headers=headers1)\n",
    "    resp1_body = resp1.json()\n",
    "    for e1 in resp1_body['token']['catalog']:\n",
    "        if(e1['type']=='object-store'):\n",
    "            for e2 in e1['endpoints']:\n",
    "                        if(e2['interface']=='public'and e2['region']=='dallas'):\n",
    "                            url2 = ''.join([e2['url'],'/', container, '/', filename])\n",
    "    s_subject_token = resp1.headers['x-subject-token']\n",
    "    headers2 = {'X-Auth-Token': s_subject_token, 'accept': 'application/json'}\n",
    "    resp2 = requests.get(url=url2, headers=headers2)\n",
    "    return StringIO(resp2.text)"
   ]
  },
  {
   "cell_type": "code",
   "execution_count": 3,
   "id": "c2451aa0",
   "metadata": {},
   "outputs": [
    {
     "data": {
      "text/html": [
       "<div>\n",
       "<style scoped>\n",
       "    .dataframe tbody tr th:only-of-type {\n",
       "        vertical-align: middle;\n",
       "    }\n",
       "\n",
       "    .dataframe tbody tr th {\n",
       "        vertical-align: top;\n",
       "    }\n",
       "\n",
       "    .dataframe thead th {\n",
       "        text-align: right;\n",
       "    }\n",
       "</style>\n",
       "<table border=\"1\" class=\"dataframe\">\n",
       "  <thead>\n",
       "    <tr style=\"text-align: right;\">\n",
       "      <th></th>\n",
       "      <th>DATE</th>\n",
       "      <th>DCOILBRENTEU</th>\n",
       "    </tr>\n",
       "  </thead>\n",
       "  <tbody>\n",
       "    <tr>\n",
       "      <th>0</th>\n",
       "      <td>1987-09-01</td>\n",
       "      <td>18.43</td>\n",
       "    </tr>\n",
       "    <tr>\n",
       "      <th>1</th>\n",
       "      <td>1987-09-02</td>\n",
       "      <td>18.40</td>\n",
       "    </tr>\n",
       "    <tr>\n",
       "      <th>2</th>\n",
       "      <td>1987-09-03</td>\n",
       "      <td>18.18</td>\n",
       "    </tr>\n",
       "    <tr>\n",
       "      <th>3</th>\n",
       "      <td>1987-09-04</td>\n",
       "      <td>18.13</td>\n",
       "    </tr>\n",
       "    <tr>\n",
       "      <th>4</th>\n",
       "      <td>1987-09-07</td>\n",
       "      <td>17.60</td>\n",
       "    </tr>\n",
       "  </tbody>\n",
       "</table>\n",
       "</div>"
      ],
      "text/plain": [
       "         DATE DCOILBRENTEU\n",
       "0  1987-09-01        18.43\n",
       "1  1987-09-02        18.40\n",
       "2  1987-09-03        18.18\n",
       "3  1987-09-04        18.13\n",
       "4  1987-09-07        17.60"
      ]
     },
     "execution_count": 3,
     "metadata": {},
     "output_type": "execute_result"
    }
   ],
   "source": [
    "df_data = pd.read_csv('DCOILBRENTEU.csv')\n",
    "df_data.head()"
   ]
  },
  {
   "cell_type": "code",
   "execution_count": 4,
   "id": "a0e5b00d",
   "metadata": {},
   "outputs": [
    {
     "data": {
      "text/html": [
       "<div>\n",
       "<style scoped>\n",
       "    .dataframe tbody tr th:only-of-type {\n",
       "        vertical-align: middle;\n",
       "    }\n",
       "\n",
       "    .dataframe tbody tr th {\n",
       "        vertical-align: top;\n",
       "    }\n",
       "\n",
       "    .dataframe thead th {\n",
       "        text-align: right;\n",
       "    }\n",
       "</style>\n",
       "<table border=\"1\" class=\"dataframe\">\n",
       "  <thead>\n",
       "    <tr style=\"text-align: right;\">\n",
       "      <th></th>\n",
       "      <th>DATE</th>\n",
       "      <th>DCOILBRENTEU</th>\n",
       "    </tr>\n",
       "  </thead>\n",
       "  <tbody>\n",
       "    <tr>\n",
       "      <th>9005</th>\n",
       "      <td>2022-03-08</td>\n",
       "      <td>133.18</td>\n",
       "    </tr>\n",
       "    <tr>\n",
       "      <th>9006</th>\n",
       "      <td>2022-03-09</td>\n",
       "      <td>116.58</td>\n",
       "    </tr>\n",
       "    <tr>\n",
       "      <th>9007</th>\n",
       "      <td>2022-03-10</td>\n",
       "      <td>114.54</td>\n",
       "    </tr>\n",
       "    <tr>\n",
       "      <th>9008</th>\n",
       "      <td>2022-03-11</td>\n",
       "      <td>118.11</td>\n",
       "    </tr>\n",
       "    <tr>\n",
       "      <th>9009</th>\n",
       "      <td>2022-03-14</td>\n",
       "      <td>110.39</td>\n",
       "    </tr>\n",
       "  </tbody>\n",
       "</table>\n",
       "</div>"
      ],
      "text/plain": [
       "            DATE DCOILBRENTEU\n",
       "9005  2022-03-08       133.18\n",
       "9006  2022-03-09       116.58\n",
       "9007  2022-03-10       114.54\n",
       "9008  2022-03-11       118.11\n",
       "9009  2022-03-14       110.39"
      ]
     },
     "execution_count": 4,
     "metadata": {},
     "output_type": "execute_result"
    }
   ],
   "source": [
    "df_data.tail()"
   ]
  },
  {
   "cell_type": "code",
   "execution_count": 5,
   "id": "4e80f04f",
   "metadata": {},
   "outputs": [
    {
     "name": "stdout",
     "output_type": "stream",
     "text": [
      "(8767, 2)\n"
     ]
    }
   ],
   "source": [
    "df_data = df_data[df_data.DCOILBRENTEU != \".\"]\n",
    "print(df_data.shape)"
   ]
  },
  {
   "cell_type": "code",
   "execution_count": 6,
   "id": "485aba6e",
   "metadata": {},
   "outputs": [
    {
     "data": {
      "image/png": "[encoded data removed]",
      "text/plain": [
       "<Figure size 432x288 with 1 Axes>"
      ]
     },
     "metadata": {
      "needs_background": "light"
     },
     "output_type": "display_data"
    }
   ],
   "source": [
    "import matplotlib.pyplot as plt\n",
    "df_data_plot = df_data.iloc[:,1:2].values.astype(float)\n",
    "# Visualising the Data\n",
    "plt.plot(df_data_plot, color = 'red', label = 'Crude Oil Prices')\n",
    "plt.title('Crude Oil Prices Historical Data')\n",
    "plt.xlabel('Time (Days)')\n",
    "plt.ylabel('Crude Oil Prices')\n",
    "plt.legend()\n",
    "plt.show()"
   ]
  },
  {
   "cell_type": "code",
   "execution_count": 7,
   "id": "5504feae",
   "metadata": {},
   "outputs": [],
   "source": [
    "#import packages\n",
    "import numpy as np\n",
    "import pandas as pd\n",
    "from keras.preprocessing import sequence\n",
    "from keras.models import load_model"
   ]
  },
  {
   "cell_type": "code",
   "execution_count": 8,
   "id": "0b6cb3d7",
   "metadata": {},
   "outputs": [],
   "source": [
    "# defining the batch size and number of epochs\n",
    "batch_size = 64\n",
    "epochs = 120\n",
    "timesteps = 30"
   ]
  },
  {
   "cell_type": "code",
   "execution_count": 9,
   "id": "2913acc9",
   "metadata": {},
   "outputs": [
    {
     "name": "stdout",
     "output_type": "stream",
     "text": [
      "8767\n",
      "7890.3\n"
     ]
    }
   ],
   "source": [
    "length = len(df_data)\n",
    "print(length)\n",
    "length *= 1 - 0.1\n",
    "print(length)"
   ]
  },
  {
   "cell_type": "code",
   "execution_count": 10,
   "id": "44445a39",
   "metadata": {},
   "outputs": [
    {
     "data": {
      "text/plain": [
       "22.800000000000182"
      ]
     },
     "execution_count": 10,
     "metadata": {},
     "output_type": "execute_result"
    }
   ],
   "source": [
    "7894.8%64.0"
   ]
  },
  {
   "cell_type": "code",
   "execution_count": 11,
   "id": "4e40bdb7",
   "metadata": {},
   "outputs": [
    {
     "data": {
      "text/plain": [
       "4.0"
      ]
     },
     "execution_count": 11,
     "metadata": {},
     "output_type": "execute_result"
    }
   ],
   "source": [
    "8772%64.0"
   ]
  },
  {
   "cell_type": "code",
   "execution_count": 12,
   "id": "8348e92c",
   "metadata": {},
   "outputs": [],
   "source": [
    "def get_train_length(dataset, batch_size, test_percent):\n",
    "    # substract test_percent to be excluded from training, reserved for testset\n",
    "    length = len(dataset)\n",
    "    length *= 1 - test_percent\n",
    "    train_length_values = []\n",
    "    for x in range(int(length) - 100,int(length)): \n",
    "        modulo=x%batch_size\n",
    "        if (modulo == 0):\n",
    "            train_length_values.append(x)\n",
    "            print(x)\n",
    "    return (max(train_length_values))"
   ]
  },
  {
   "cell_type": "code",
   "execution_count": 13,
   "id": "44b85bed",
   "metadata": {},
   "outputs": [
    {
     "name": "stdout",
     "output_type": "stream",
     "text": [
      "7808\n",
      "7872\n",
      "7872\n"
     ]
    }
   ],
   "source": [
    "length = get_train_length(df_data, batch_size, 0.1)\n",
    "print(length)"
   ]
  },
  {
   "cell_type": "code",
   "execution_count": 14,
   "id": "2d0d0cf1",
   "metadata": {},
   "outputs": [
    {
     "data": {
      "text/plain": [
       "(7932, 1)"
      ]
     },
     "execution_count": 14,
     "metadata": {},
     "output_type": "execute_result"
    }
   ],
   "source": [
    "#Adding timesteps * 2\n",
    "upper_train = length + timesteps*2\n",
    "df_data_train = df_data[0:upper_train]\n",
    "training_set = df_data_train.iloc[:,1:2].values\n",
    "training_set.shape"
   ]
  },
  {
   "cell_type": "code",
   "execution_count": 15,
   "id": "c17a7ca0",
   "metadata": {},
   "outputs": [
    {
     "data": {
      "text/plain": [
       "(7932, 1)"
      ]
     },
     "execution_count": 15,
     "metadata": {},
     "output_type": "execute_result"
    }
   ],
   "source": [
    "# Feature Scaling\n",
    "#scale between 0 and 1. the weights are esier to find.\n",
    "from sklearn.preprocessing import MinMaxScaler\n",
    "sc = MinMaxScaler(feature_range = (0, 1))\n",
    "training_set_scaled = sc.fit_transform(np.float64(training_set))\n",
    "training_set_scaled.shape"
   ]
  },
  {
   "cell_type": "code",
   "execution_count": 16,
   "id": "fd525631",
   "metadata": {},
   "outputs": [
    {
     "name": "stdout",
     "output_type": "stream",
     "text": [
      "7902\n",
      "7872\n",
      "7872\n",
      "[array([0.06918799, 0.06896552, 0.06733407, 0.06696329, 0.063033  ,\n",
      "       0.06362625, 0.06525769, 0.06822395, 0.06733407, 0.06711161,\n",
      "       0.06992955, 0.06992955, 0.06918799, 0.06822395, 0.06807564,\n",
      "       0.06955877, 0.06955877, 0.0710419 , 0.07044865, 0.07081943,\n",
      "       0.06970708, 0.06955877, 0.06970708, 0.07081943, 0.07178346,\n",
      "       0.07044865, 0.07030033, 0.07067112, 0.07044865, 0.07007786]), array([0.06896552, 0.06733407, 0.06696329, 0.063033  , 0.06362625,\n",
      "       0.06525769, 0.06822395, 0.06733407, 0.06711161, 0.06992955,\n",
      "       0.06992955, 0.06918799, 0.06822395, 0.06807564, 0.06955877,\n",
      "       0.06955877, 0.0710419 , 0.07044865, 0.07081943, 0.06970708,\n",
      "       0.06955877, 0.06970708, 0.07081943, 0.07178346, 0.07044865,\n",
      "       0.07030033, 0.07067112, 0.07044865, 0.07007786, 0.07007786])]\n",
      "(7872, 30)\n",
      "[array([0.07007786, 0.0710419 , 0.0710419 , 0.07341491, 0.07415647,\n",
      "       0.07178346, 0.07289581, 0.07437894, 0.07326659, 0.07156099,\n",
      "       0.07193178, 0.07230256, 0.07156099, 0.07193178, 0.07067112,\n",
      "       0.0688172 , 0.06548016, 0.06488691, 0.06562848, 0.06229143,\n",
      "       0.06414535, 0.06451613, 0.06488691, 0.06451613, 0.06362625,\n",
      "       0.06154987, 0.05991843, 0.06214312, 0.063033  , 0.06525769]), array([0.0710419 , 0.0710419 , 0.07341491, 0.07415647, 0.07178346,\n",
      "       0.07289581, 0.07437894, 0.07326659, 0.07156099, 0.07193178,\n",
      "       0.07230256, 0.07156099, 0.07193178, 0.07067112, 0.0688172 ,\n",
      "       0.06548016, 0.06488691, 0.06562848, 0.06229143, 0.06414535,\n",
      "       0.06451613, 0.06488691, 0.06451613, 0.06362625, 0.06154987,\n",
      "       0.05991843, 0.06214312, 0.063033  , 0.06525769, 0.0647386 ])]\n",
      "(7872, 30)\n"
     ]
    }
   ],
   "source": [
    "X_train = []\n",
    "y_train = []\n",
    "\n",
    "# Creating a data structure with n timesteps\n",
    "\n",
    "print(length + timesteps)\n",
    "for i in range(timesteps, length + timesteps): \n",
    "    X_train.append(training_set_scaled[i-timesteps:i,0])\n",
    "    y_train.append(training_set_scaled[i:i+timesteps,0])\n",
    "\n",
    "print(len(X_train))\n",
    "print(len(y_train))\n",
    "#create X_train matrix\n",
    "#30 items per array (timestep) \n",
    "print(X_train[0:2])\n",
    "print(np.array(X_train).shape)\n",
    "#create Y_train matrix\n",
    "#30 items per array (timestep) \n",
    "print(y_train[0:2])\n",
    "print(np.array(y_train).shape)"
   ]
  },
  {
   "cell_type": "code",
   "execution_count": 17,
   "id": "16a14a97",
   "metadata": {},
   "outputs": [
    {
     "name": "stdout",
     "output_type": "stream",
     "text": [
      "(7872, 30, 1)\n",
      "(7872, 30, 1)\n"
     ]
    }
   ],
   "source": [
    "# Reshaping\n",
    "X_train, y_train = np.array(X_train), np.array(y_train)\n",
    "X_train = np.reshape(X_train, (X_train.shape[0], X_train.shape[1], 1))\n",
    "y_train = np.reshape(y_train, (y_train.shape[0], y_train.shape[1], 1))\n",
    "print(X_train.shape)\n",
    "print(y_train.shape)"
   ]
  },
  {
   "cell_type": "code",
   "execution_count": 18,
   "id": "1be78d2b",
   "metadata": {},
   "outputs": [],
   "source": [
    "# Building the LSTM\n",
    "# Importing the Keras libraries and packages\n",
    "\n",
    "from keras.layers import Dense\n",
    "from keras.layers import Input, LSTM\n",
    "from keras.models import Model\n",
    "import h5py"
   ]
  },
  {
   "cell_type": "code",
   "execution_count": 19,
   "id": "203273a0",
   "metadata": {},
   "outputs": [
    {
     "name": "stdout",
     "output_type": "stream",
     "text": [
      "Model: \"model\"\n",
      "_________________________________________________________________\n",
      " Layer (type)                Output Shape              Param #   \n",
      "=================================================================\n",
      " input_1 (InputLayer)        [(64, 30, 1)]             0         \n",
      "                                                                 \n",
      " lstm (LSTM)                 (64, 30, 10)              480       \n",
      "                                                                 \n",
      " lstm_1 (LSTM)               (64, 30, 10)              840       \n",
      "                                                                 \n",
      " dense (Dense)               (64, 30, 1)               11        \n",
      "                                                                 \n",
      "=================================================================\n",
      "Total params: 1,331\n",
      "Trainable params: 1,331\n",
      "Non-trainable params: 0\n",
      "_________________________________________________________________\n"
     ]
    }
   ],
   "source": [
    "# Initialising the LSTM Model with MAE Loss-Function\n",
    "# Using Functional API\n",
    "\n",
    "inputs_1_mae = Input(batch_shape=(batch_size,timesteps,1))\n",
    "#each layer is the input of the next layer\n",
    "lstm_1_mae = LSTM(10, stateful=True, return_sequences=True)(inputs_1_mae)\n",
    "lstm_2_mae = LSTM(10, stateful=True, return_sequences=True)(lstm_1_mae)\n",
    "\n",
    "output_1_mae = Dense(units = 1)(lstm_2_mae)\n",
    "\n",
    "regressor_mae = Model(inputs=inputs_1_mae, outputs = output_1_mae)\n",
    "\n",
    "#adam is fast starting off and then gets slower and more precise\n",
    "#mae -> mean absolute error loss function\n",
    "regressor_mae.compile(optimizer='adam', loss = 'mae')\n",
    "regressor_mae.summary()"
   ]
  },
  {
   "cell_type": "code",
   "execution_count": 20,
   "id": "59c0541d",
   "metadata": {},
   "outputs": [],
   "source": [
    "#some learners constantly reported 502 errors in Watson Studio. \n",
    "#This is due to the limited resources in the free tier and the heavy resource consumption of Keras.\n",
    "#This is a workaround to limit resource consumption\n",
    "\n",
    "from keras import backend as K\n",
    "\n",
    "#K.set_session(K.tf.Session(config=K.tf.ConfigProto(intra_op_parallelism_threads=1, inter_op_parallelism_threads=1)))"
   ]
  },
  {
   "cell_type": "code",
   "execution_count": 21,
   "id": "781414d0",
   "metadata": {},
   "outputs": [
    {
     "name": "stdout",
     "output_type": "stream",
     "text": [
      "480\n"
     ]
    }
   ],
   "source": [
    "# 1st LSTM Layer\n",
    "parameters = 4 * 10 * (1 + 10 + 1)\n",
    "print(parameters)"
   ]
  },
  {
   "cell_type": "code",
   "execution_count": 22,
   "id": "f83acdb0",
   "metadata": {},
   "outputs": [
    {
     "name": "stdout",
     "output_type": "stream",
     "text": [
      "840\n"
     ]
    }
   ],
   "source": [
    "parameters = 4 * 10 * (10 + 10 + 1)\n",
    "print(parameters)"
   ]
  },
  {
   "cell_type": "code",
   "execution_count": 23,
   "id": "c812b95a",
   "metadata": {},
   "outputs": [
    {
     "name": "stdout",
     "output_type": "stream",
     "text": [
      "Epoch: 0\n",
      "123/123 [==============================] - 4s 10ms/step - loss: 0.0628\n",
      "Epoch: 1\n",
      "123/123 [==============================] - 1s 8ms/step - loss: 0.0629\n",
      "Epoch: 2\n",
      "123/123 [==============================] - 1s 8ms/step - loss: 0.0635\n",
      "Epoch: 3\n",
      "123/123 [==============================] - 1s 8ms/step - loss: 0.0666\n",
      "Epoch: 4\n",
      "123/123 [==============================] - 1s 9ms/step - loss: 0.0696\n",
      "Epoch: 5\n",
      "123/123 [==============================] - 1s 9ms/step - loss: 0.0696\n",
      "Epoch: 6\n",
      "123/123 [==============================] - 1s 8ms/step - loss: 0.0661\n",
      "Epoch: 7\n",
      "123/123 [==============================] - 1s 9ms/step - loss: 0.0614\n",
      "Epoch: 8\n",
      "123/123 [==============================] - 1s 9ms/step - loss: 0.0571\n",
      "Epoch: 9\n",
      "123/123 [==============================] - 1s 10ms/step - loss: 0.0524\n",
      "Epoch: 10\n",
      "123/123 [==============================] - 1s 8ms/step - loss: 0.0488\n",
      "Epoch: 11\n",
      "123/123 [==============================] - 1s 8ms/step - loss: 0.0460\n",
      "Epoch: 12\n",
      "123/123 [==============================] - 1s 9ms/step - loss: 0.0439\n",
      "Epoch: 13\n",
      "123/123 [==============================] - 1s 9ms/step - loss: 0.0424\n",
      "Epoch: 14\n",
      "123/123 [==============================] - 1s 10ms/step - loss: 0.0415\n",
      "Epoch: 15\n",
      "123/123 [==============================] - 1s 10ms/step - loss: 0.0409\n",
      "Epoch: 16\n",
      "123/123 [==============================] - 1s 10ms/step - loss: 0.0406\n",
      "Epoch: 17\n",
      "123/123 [==============================] - 1s 9ms/step - loss: 0.0402\n",
      "Epoch: 18\n",
      "123/123 [==============================] - 1s 9ms/step - loss: 0.0401\n",
      "Epoch: 19\n",
      "123/123 [==============================] - 1s 9ms/step - loss: 0.0398\n",
      "Epoch: 20\n",
      "123/123 [==============================] - 1s 9ms/step - loss: 0.0397\n",
      "Epoch: 21\n",
      "123/123 [==============================] - 1s 9ms/step - loss: 0.0395\n",
      "Epoch: 22\n",
      "123/123 [==============================] - 1s 9ms/step - loss: 0.0394\n",
      "Epoch: 23\n",
      "123/123 [==============================] - 1s 9ms/step - loss: 0.0392\n",
      "Epoch: 24\n",
      "123/123 [==============================] - 1s 8ms/step - loss: 0.0392\n",
      "Epoch: 25\n",
      "123/123 [==============================] - 1s 9ms/step - loss: 0.0390\n",
      "Epoch: 26\n",
      "123/123 [==============================] - 1s 8ms/step - loss: 0.0389\n",
      "Epoch: 27\n",
      "123/123 [==============================] - 1s 9ms/step - loss: 0.0386\n",
      "Epoch: 28\n",
      "123/123 [==============================] - 1s 8ms/step - loss: 0.0386\n",
      "Epoch: 29\n",
      "123/123 [==============================] - 1s 8ms/step - loss: 0.0383\n",
      "Epoch: 30\n",
      "123/123 [==============================] - 1s 9ms/step - loss: 0.0384\n",
      "Epoch: 31\n",
      "123/123 [==============================] - 1s 9ms/step - loss: 0.0380\n",
      "Epoch: 32\n",
      "123/123 [==============================] - 1s 9ms/step - loss: 0.0382\n",
      "Epoch: 33\n",
      "123/123 [==============================] - 1s 9ms/step - loss: 0.0379\n",
      "Epoch: 34\n",
      "123/123 [==============================] - 1s 9ms/step - loss: 0.0382\n",
      "Epoch: 35\n",
      "123/123 [==============================] - 1s 9ms/step - loss: 0.0378\n",
      "Epoch: 36\n",
      "123/123 [==============================] - 1s 9ms/step - loss: 0.0378\n",
      "Epoch: 37\n",
      "123/123 [==============================] - 1s 9ms/step - loss: 0.0376\n",
      "Epoch: 38\n",
      "123/123 [==============================] - 1s 8ms/step - loss: 0.0375\n",
      "Epoch: 39\n",
      "123/123 [==============================] - 1s 9ms/step - loss: 0.0373\n",
      "Epoch: 40\n",
      "123/123 [==============================] - 1s 9ms/step - loss: 0.0373\n",
      "Epoch: 41\n",
      "123/123 [==============================] - 1s 9ms/step - loss: 0.0371\n",
      "Epoch: 42\n",
      "123/123 [==============================] - 1s 8ms/step - loss: 0.0371\n",
      "Epoch: 43\n",
      "123/123 [==============================] - 1s 8ms/step - loss: 0.0369\n",
      "Epoch: 44\n",
      "123/123 [==============================] - 1s 8ms/step - loss: 0.0370\n",
      "Epoch: 45\n",
      "123/123 [==============================] - 1s 9ms/step - loss: 0.0367\n",
      "Epoch: 46\n",
      "123/123 [==============================] - 1s 9ms/step - loss: 0.0369\n",
      "Epoch: 47\n",
      "123/123 [==============================] - 1s 9ms/step - loss: 0.0367\n",
      "Epoch: 48\n",
      "123/123 [==============================] - 1s 9ms/step - loss: 0.0368\n",
      "Epoch: 49\n",
      "123/123 [==============================] - 1s 9ms/step - loss: 0.0365\n",
      "Epoch: 50\n",
      "123/123 [==============================] - 1s 9ms/step - loss: 0.0365\n",
      "Epoch: 51\n",
      "123/123 [==============================] - 1s 9ms/step - loss: 0.0363\n",
      "Epoch: 52\n",
      "123/123 [==============================] - 1s 8ms/step - loss: 0.0363\n",
      "Epoch: 53\n",
      "123/123 [==============================] - 1s 9ms/step - loss: 0.0362\n",
      "Epoch: 54\n",
      "123/123 [==============================] - 1s 8ms/step - loss: 0.0362\n",
      "Epoch: 55\n",
      "123/123 [==============================] - 1s 8ms/step - loss: 0.0360\n",
      "Epoch: 56\n",
      "123/123 [==============================] - 1s 8ms/step - loss: 0.0361\n",
      "Epoch: 57\n",
      "123/123 [==============================] - 1s 8ms/step - loss: 0.0359\n",
      "Epoch: 58\n",
      "123/123 [==============================] - 1s 8ms/step - loss: 0.0360\n",
      "Epoch: 59\n",
      "123/123 [==============================] - 1s 8ms/step - loss: 0.0358\n",
      "Epoch: 60\n",
      "123/123 [==============================] - 1s 8ms/step - loss: 0.0359\n",
      "Epoch: 61\n",
      "123/123 [==============================] - 1s 8ms/step - loss: 0.0357\n",
      "Epoch: 62\n",
      "123/123 [==============================] - 1s 8ms/step - loss: 0.0359\n",
      "Epoch: 63\n",
      "123/123 [==============================] - 1s 8ms/step - loss: 0.0356\n",
      "Epoch: 64\n",
      "123/123 [==============================] - 1s 9ms/step - loss: 0.0357\n",
      "Epoch: 65\n",
      "123/123 [==============================] - 1s 9ms/step - loss: 0.0356\n",
      "Epoch: 66\n",
      "123/123 [==============================] - 1s 8ms/step - loss: 0.0356\n",
      "Epoch: 67\n",
      "123/123 [==============================] - 1s 8ms/step - loss: 0.0355\n",
      "Epoch: 68\n",
      "123/123 [==============================] - 1s 8ms/step - loss: 0.0356\n",
      "Epoch: 69\n",
      "123/123 [==============================] - 1s 8ms/step - loss: 0.0354\n",
      "Epoch: 70\n",
      "123/123 [==============================] - 1s 8ms/step - loss: 0.0355\n",
      "Epoch: 71\n",
      "123/123 [==============================] - 1s 8ms/step - loss: 0.0354\n",
      "Epoch: 72\n",
      "123/123 [==============================] - 1s 8ms/step - loss: 0.0355\n",
      "Epoch: 73\n",
      "123/123 [==============================] - 1s 8ms/step - loss: 0.0353\n",
      "Epoch: 74\n",
      "123/123 [==============================] - 1s 8ms/step - loss: 0.0353\n",
      "Epoch: 75\n",
      "123/123 [==============================] - 1s 8ms/step - loss: 0.0352\n",
      "Epoch: 76\n",
      "123/123 [==============================] - 1s 8ms/step - loss: 0.0352\n",
      "Epoch: 77\n",
      "123/123 [==============================] - 1s 8ms/step - loss: 0.0351\n",
      "Epoch: 78\n",
      "123/123 [==============================] - 1s 8ms/step - loss: 0.0351\n",
      "Epoch: 79\n",
      "123/123 [==============================] - 1s 8ms/step - loss: 0.0351\n",
      "Epoch: 80\n",
      "123/123 [==============================] - 1s 8ms/step - loss: 0.0351\n",
      "Epoch: 81\n",
      "123/123 [==============================] - 1s 8ms/step - loss: 0.0350\n",
      "Epoch: 82\n",
      "123/123 [==============================] - 1s 9ms/step - loss: 0.0349\n",
      "Epoch: 83\n",
      "123/123 [==============================] - 1s 8ms/step - loss: 0.0350\n",
      "Epoch: 84\n",
      "123/123 [==============================] - 1s 8ms/step - loss: 0.0349\n",
      "Epoch: 85\n",
      "123/123 [==============================] - 1s 9ms/step - loss: 0.0350\n",
      "Epoch: 86\n",
      "123/123 [==============================] - 1s 8ms/step - loss: 0.0348\n",
      "Epoch: 87\n",
      "123/123 [==============================] - 1s 8ms/step - loss: 0.0349\n",
      "Epoch: 88\n",
      "123/123 [==============================] - 1s 8ms/step - loss: 0.0348\n",
      "Epoch: 89\n",
      "123/123 [==============================] - 1s 8ms/step - loss: 0.0349\n",
      "Epoch: 90\n",
      "123/123 [==============================] - 1s 8ms/step - loss: 0.0347\n",
      "Epoch: 91\n",
      "123/123 [==============================] - 1s 8ms/step - loss: 0.0349\n",
      "Epoch: 92\n",
      "123/123 [==============================] - 1s 8ms/step - loss: 0.0348\n",
      "Epoch: 93\n",
      "123/123 [==============================] - 1s 8ms/step - loss: 0.0348\n",
      "Epoch: 94\n",
      "123/123 [==============================] - 1s 8ms/step - loss: 0.0348\n",
      "Epoch: 95\n",
      "123/123 [==============================] - 1s 8ms/step - loss: 0.0348\n",
      "Epoch: 96\n",
      "123/123 [==============================] - 1s 8ms/step - loss: 0.0347\n",
      "Epoch: 97\n",
      "123/123 [==============================] - 1s 8ms/step - loss: 0.0347\n",
      "Epoch: 98\n",
      "123/123 [==============================] - 1s 8ms/step - loss: 0.0347\n",
      "Epoch: 99\n",
      "123/123 [==============================] - 1s 8ms/step - loss: 0.0346\n",
      "Epoch: 100\n",
      "123/123 [==============================] - 1s 8ms/step - loss: 0.0347\n",
      "Epoch: 101\n",
      "123/123 [==============================] - 1s 8ms/step - loss: 0.0345\n",
      "Epoch: 102\n"
     ]
    },
    {
     "name": "stdout",
     "output_type": "stream",
     "text": [
      "123/123 [==============================] - 1s 8ms/step - loss: 0.0347\n",
      "Epoch: 103\n",
      "123/123 [==============================] - 1s 8ms/step - loss: 0.0345\n",
      "Epoch: 104\n",
      "123/123 [==============================] - 1s 8ms/step - loss: 0.0346\n",
      "Epoch: 105\n",
      "123/123 [==============================] - 1s 8ms/step - loss: 0.0345\n",
      "Epoch: 106\n",
      "123/123 [==============================] - 1s 8ms/step - loss: 0.0345\n",
      "Epoch: 107\n",
      "123/123 [==============================] - 1s 9ms/step - loss: 0.0345\n",
      "Epoch: 108\n",
      "123/123 [==============================] - 1s 9ms/step - loss: 0.0345\n",
      "Epoch: 109\n",
      "123/123 [==============================] - 1s 8ms/step - loss: 0.0345\n",
      "Epoch: 110\n",
      "123/123 [==============================] - 1s 8ms/step - loss: 0.0344\n",
      "Epoch: 111\n",
      "123/123 [==============================] - 1s 8ms/step - loss: 0.0345\n",
      "Epoch: 112\n",
      "123/123 [==============================] - 1s 8ms/step - loss: 0.0344\n",
      "Epoch: 113\n",
      "123/123 [==============================] - 1s 8ms/step - loss: 0.0344\n",
      "Epoch: 114\n",
      "123/123 [==============================] - 1s 8ms/step - loss: 0.0344\n",
      "Epoch: 115\n",
      "123/123 [==============================] - 1s 8ms/step - loss: 0.0344\n",
      "Epoch: 116\n",
      "123/123 [==============================] - 1s 8ms/step - loss: 0.0343\n",
      "Epoch: 117\n",
      "123/123 [==============================] - 1s 8ms/step - loss: 0.0343\n",
      "Epoch: 118\n",
      "123/123 [==============================] - 1s 8ms/step - loss: 0.0342\n",
      "Epoch: 119\n",
      "123/123 [==============================] - 1s 8ms/step - loss: 0.0342\n"
     ]
    }
   ],
   "source": [
    "#Statefull\n",
    "for i in range(epochs):\n",
    "    print(\"Epoch: \" + str(i))\n",
    "    #run through all data but the cell, hidden state are used for the next batch.\n",
    "    regressor_mae.fit(X_train, y_train, shuffle=False, epochs = 1, batch_size = batch_size)\n",
    "    #resets only the states but the weights, cell and hidden are kept.\n",
    "    regressor_mae.reset_states()\n",
    "    \n",
    "#Stateless\n",
    "#between the batches the cell and hidden states are lost.\n",
    "#regressor_mae.fit(X_train, y_train, shuffle=False, epochs = epochs, batch_size = batch_size)"
   ]
  },
  {
   "cell_type": "code",
   "execution_count": 24,
   "id": "645ff165",
   "metadata": {},
   "outputs": [],
   "source": [
    "#save model\n",
    "import h5py\n",
    "regressor_mae.save(filepath=\"my_model_with_mae_30_ts.h5\")"
   ]
  },
  {
   "cell_type": "code",
   "execution_count": 25,
   "id": "53e1b9be",
   "metadata": {},
   "outputs": [],
   "source": [
    "#load model\n",
    "import h5py\n",
    "regressor_mae = load_model(filepath=\"my_model_with_mae_30_ts.h5\")"
   ]
  },
  {
   "cell_type": "code",
   "execution_count": 26,
   "id": "82144b9d",
   "metadata": {},
   "outputs": [],
   "source": [
    "def get_test_length(dataset, batch_size):\n",
    "    \n",
    "    test_length_values = []\n",
    "    for x in range(len(dataset) - 200, len(dataset) - timesteps*2): \n",
    "        modulo=(x-upper_train)%batch_size\n",
    "        if (modulo == 0):\n",
    "            test_length_values.append(x)\n",
    "            print(x)\n",
    "    return (max(test_length_values))"
   ]
  },
  {
   "cell_type": "code",
   "execution_count": 27,
   "id": "5e8e2640",
   "metadata": {},
   "outputs": [
    {
     "name": "stdout",
     "output_type": "stream",
     "text": [
      "8572\n",
      "8636\n",
      "8700\n",
      "8700\n",
      "768\n"
     ]
    }
   ],
   "source": [
    "test_length = get_test_length(df_data, batch_size)\n",
    "print(test_length)\n",
    "upper_test = test_length + timesteps*2\n",
    "testset_length = test_length - upper_train\n",
    "print(testset_length)"
   ]
  },
  {
   "cell_type": "code",
   "execution_count": 29,
   "id": "e5acc2e4",
   "metadata": {},
   "outputs": [
    {
     "name": "stdout",
     "output_type": "stream",
     "text": [
      "7932 8760 8767\n"
     ]
    }
   ],
   "source": [
    "print(upper_train, upper_test, len(df_data))"
   ]
  },
  {
   "cell_type": "code",
   "execution_count": 47,
   "id": "b1ebe55b",
   "metadata": {},
   "outputs": [],
   "source": [
    "# construct test set\n",
    "\n",
    "#subsetting\n",
    "df_data_test = df_data[upper_train:upper_test] \n",
    "test_set = df_data_test.iloc[:,1:2].values\n",
    "\n",
    "#scaling\n",
    "scaled_real_bcg_values_test = sc.fit_transform(np.float64(test_set))\n",
    "\n",
    "#creating input data\n",
    "X_test = []\n",
    "for i in range(timesteps, testset_length + timesteps):\n",
    "    X_test.append(scaled_real_bcg_values_test[i-timesteps:i, 0])\n",
    "X_test = np.array(X_test)\n",
    "\n",
    "\n",
    "#reshaping\n",
    "X_test = np.reshape(X_test, (X_test.shape[0], X_test.shape[1], 1))\n",
    "# X_test = np.reshape(X_test, (23040, -1))"
   ]
  },
  {
   "cell_type": "code",
   "execution_count": 48,
   "id": "ec300b0e",
   "metadata": {},
   "outputs": [
    {
     "data": {
      "text/plain": [
       "(768, 30, 1)"
      ]
     },
     "execution_count": 48,
     "metadata": {},
     "output_type": "execute_result"
    }
   ],
   "source": [
    "X_test.shape"
   ]
  },
  {
   "cell_type": "code",
   "execution_count": 49,
   "id": "f7b4e336",
   "metadata": {},
   "outputs": [
    {
     "data": {
      "text/plain": [
       "738"
      ]
     },
     "execution_count": 49,
     "metadata": {},
     "output_type": "execute_result"
    }
   ],
   "source": [
    "testset_length - timesteps"
   ]
  },
  {
   "cell_type": "code",
   "execution_count": 51,
   "id": "4d89c2bf",
   "metadata": {},
   "outputs": [
    {
     "name": "stdout",
     "output_type": "stream",
     "text": [
      " 1/12 [=>............................] - ETA: 8sWARNING:tensorflow:From C:\\Users\\USER\\anaconda3\\lib\\site-packages\\tensorflow\\python\\eager\\function.py:113: TypeSpec.most_specific_compatible_type (from tensorflow.python.framework.type_spec) is deprecated and will be removed in a future version.\n",
      "Instructions for updating:\n",
      "Use most_specific_common_supertype instead.\n",
      "12/12 [==============================] - 1s 5ms/step\n",
      "(768, 30, 1)\n",
      "(768, 30)\n",
      "(738, 1)\n"
     ]
    }
   ],
   "source": [
    "#prediction\n",
    "predicted_bcg_values_test_mae = regressor_mae.predict(X_test, batch_size=batch_size)\n",
    "regressor_mae.reset_states()\n",
    "\n",
    "print(predicted_bcg_values_test_mae.shape)\n",
    "\n",
    "#reshaping\n",
    "predicted_bcg_values_test_mae = np.reshape(predicted_bcg_values_test_mae, \n",
    "                                       (predicted_bcg_values_test_mae.shape[0], \n",
    "                                        predicted_bcg_values_test_mae.shape[1]))\n",
    "\n",
    "print(predicted_bcg_values_test_mae.shape)\n",
    "#inverse transform\n",
    "predicted_bcg_values_test_mae = sc.inverse_transform(predicted_bcg_values_test_mae)\n",
    "\n",
    "\n",
    "#creating y_test data\n",
    "y_test = []\n",
    "for j in range(0, testset_length - timesteps):\n",
    "    y_test = np.append(y_test, predicted_bcg_values_test_mae[j, timesteps-1])\n",
    "\n",
    "# reshaping\n",
    "y_test = np.reshape(y_test, (y_test.shape[0], 1))\n",
    "\n",
    "print(y_test.shape)"
   ]
  },
  {
   "cell_type": "code",
   "execution_count": 52,
   "id": "f310b79c",
   "metadata": {},
   "outputs": [
    {
     "data": {
      "image/png": "[encoded data removed]",
      "text/plain": [
       "<Figure size 432x288 with 1 Axes>"
      ]
     },
     "metadata": {
      "needs_background": "light"
     },
     "output_type": "display_data"
    }
   ],
   "source": [
    "# Visualising the results\n",
    "plt.plot(test_set[timesteps:len(y_test)].astype(float), color = 'red', label = 'Real Crude Oil Prices')\n",
    "plt.plot(y_test[0:len(y_test) - timesteps].astype(float), color = 'blue', label = 'Predicted Crude Oil Prices')\n",
    "plt.title('Crude Oil Prices Prediction - MAE')\n",
    "plt.xlabel('Time')\n",
    "plt.ylabel('Crude Oil Prices')\n",
    "plt.legend()\n",
    "plt.show()"
   ]
  },
  {
   "cell_type": "code",
   "execution_count": 53,
   "id": "85cc0484",
   "metadata": {},
   "outputs": [
    {
     "name": "stdout",
     "output_type": "stream",
     "text": [
      "2.23801990422908\n"
     ]
    }
   ],
   "source": [
    "#MSE (mean sqared error)\n",
    "import math\n",
    "from sklearn.metrics import mean_squared_error\n",
    "rmse = math.sqrt(mean_squared_error(test_set[timesteps:len(y_test)], y_test[0:len(y_test) - timesteps]))\n",
    "print(rmse)"
   ]
  },
  {
   "cell_type": "code",
   "execution_count": 54,
   "id": "fc27b4cc",
   "metadata": {},
   "outputs": [
    {
     "name": "stdout",
     "output_type": "stream",
     "text": [
      "1.6639202750470004\n"
     ]
    }
   ],
   "source": [
    "#MAE (mean absolut error)\n",
    "from sklearn.metrics import mean_absolute_error\n",
    "mae = mean_absolute_error(test_set[timesteps:len(y_test)], y_test[0:len(y_test) - timesteps])\n",
    "print(mae)"
   ]
  },
  {
   "cell_type": "code",
   "execution_count": 55,
   "id": "77accab3",
   "metadata": {},
   "outputs": [
    {
     "name": "stdout",
     "output_type": "stream",
     "text": [
      "Model: \"model_1\"\n",
      "_________________________________________________________________\n",
      " Layer (type)                Output Shape              Param #   \n",
      "=================================================================\n",
      " input_2 (InputLayer)        [(64, 30, 1)]             0         \n",
      "                                                                 \n",
      " lstm_2 (LSTM)               (64, 30, 10)              480       \n",
      "                                                                 \n",
      " lstm_3 (LSTM)               (64, 30, 10)              840       \n",
      "                                                                 \n",
      " dense_1 (Dense)             (64, 30, 1)               11        \n",
      "                                                                 \n",
      "=================================================================\n",
      "Total params: 1,331\n",
      "Trainable params: 1,331\n",
      "Non-trainable params: 0\n",
      "_________________________________________________________________\n"
     ]
    }
   ],
   "source": [
    "# Initialising the LSTM Model with MSE Loss Function\n",
    "\n",
    "inputs_1_mse = Input(batch_shape=(batch_size,timesteps,1))\n",
    "lstm_1_mse = LSTM(10, stateful=True, return_sequences=True)(inputs_1_mse)\n",
    "lstm_2_mse = LSTM(10, stateful=True, return_sequences=True)(lstm_1_mse)\n",
    "\n",
    "output_1_mse = Dense(units = 1)(lstm_2_mse)\n",
    "\n",
    "regressor_mse = Model(inputs=inputs_1_mse, outputs = output_1_mse)\n",
    "\n",
    "#mse -> mean squared error as loss function\n",
    "regressor_mse.compile(optimizer='adam', loss = 'mse')\n",
    "regressor_mse.summary()"
   ]
  },
  {
   "cell_type": "code",
   "execution_count": 56,
   "id": "fb07a9f4",
   "metadata": {},
   "outputs": [],
   "source": [
    "#some learners constantly reported 502 errors in Watson Studio. \n",
    "#This is due to the limited resources in the free tier and the heavy resource consumption of Keras.\n",
    "#This is a workaround to limit resource consumption\n",
    "\n",
    "from keras import backend as K\n",
    "\n",
    "#K.set_session(K.tf.Session(config=K.tf.ConfigProto(intra_op_parallelism_threads=1, inter_op_parallelism_threads=1)))"
   ]
  },
  {
   "cell_type": "code",
   "execution_count": 57,
   "id": "10450e31",
   "metadata": {},
   "outputs": [
    {
     "name": "stdout",
     "output_type": "stream",
     "text": [
      "Epoch: 0\n",
      "123/123 [==============================] - 3s 9ms/step - loss: 0.0077\n",
      "Epoch: 1\n",
      "123/123 [==============================] - 1s 8ms/step - loss: 0.0070\n",
      "Epoch: 2\n",
      "123/123 [==============================] - 1s 8ms/step - loss: 0.0066\n",
      "Epoch: 3\n",
      "123/123 [==============================] - 1s 8ms/step - loss: 0.0063\n",
      "Epoch: 4\n",
      "123/123 [==============================] - 1s 8ms/step - loss: 0.0062\n",
      "Epoch: 5\n",
      "123/123 [==============================] - 1s 8ms/step - loss: 0.0058\n",
      "Epoch: 6\n",
      "123/123 [==============================] - 1s 9ms/step - loss: 0.0058\n",
      "Epoch: 7\n",
      "123/123 [==============================] - 1s 9ms/step - loss: 0.0054\n",
      "Epoch: 8\n",
      "123/123 [==============================] - 1s 9ms/step - loss: 0.0054\n",
      "Epoch: 9\n",
      "123/123 [==============================] - 1s 9ms/step - loss: 0.0050\n",
      "Epoch: 10\n",
      "123/123 [==============================] - 1s 8ms/step - loss: 0.0050\n",
      "Epoch: 11\n",
      "123/123 [==============================] - 1s 8ms/step - loss: 0.0047\n",
      "Epoch: 12\n",
      "123/123 [==============================] - 1s 8ms/step - loss: 0.0046\n",
      "Epoch: 13\n",
      "123/123 [==============================] - 1s 8ms/step - loss: 0.0044\n",
      "Epoch: 14\n",
      "123/123 [==============================] - 1s 8ms/step - loss: 0.0043\n",
      "Epoch: 15\n",
      "123/123 [==============================] - 1s 8ms/step - loss: 0.0042\n",
      "Epoch: 16\n",
      "123/123 [==============================] - 1s 8ms/step - loss: 0.0041\n",
      "Epoch: 17\n",
      "123/123 [==============================] - 1s 8ms/step - loss: 0.0040\n",
      "Epoch: 18\n",
      "123/123 [==============================] - 1s 8ms/step - loss: 0.0040\n",
      "Epoch: 19\n",
      "123/123 [==============================] - 1s 8ms/step - loss: 0.0039\n",
      "Epoch: 20\n",
      "123/123 [==============================] - 1s 8ms/step - loss: 0.0039\n",
      "Epoch: 21\n",
      "123/123 [==============================] - 1s 8ms/step - loss: 0.0038\n",
      "Epoch: 22\n",
      "123/123 [==============================] - 1s 8ms/step - loss: 0.0038\n",
      "Epoch: 23\n",
      "123/123 [==============================] - 1s 8ms/step - loss: 0.0038\n",
      "Epoch: 24\n",
      "123/123 [==============================] - 1s 8ms/step - loss: 0.0037\n",
      "Epoch: 25\n",
      "123/123 [==============================] - 1s 8ms/step - loss: 0.0037\n",
      "Epoch: 26\n",
      "123/123 [==============================] - 1s 8ms/step - loss: 0.0037\n",
      "Epoch: 27\n",
      "123/123 [==============================] - 1s 8ms/step - loss: 0.0036\n",
      "Epoch: 28\n",
      "123/123 [==============================] - 1s 8ms/step - loss: 0.0036\n",
      "Epoch: 29\n",
      "123/123 [==============================] - 1s 8ms/step - loss: 0.0036\n",
      "Epoch: 30\n",
      "123/123 [==============================] - 1s 8ms/step - loss: 0.0036\n",
      "Epoch: 31\n",
      "123/123 [==============================] - 1s 8ms/step - loss: 0.0035\n",
      "Epoch: 32\n",
      "123/123 [==============================] - 1s 8ms/step - loss: 0.0035\n",
      "Epoch: 33\n",
      "123/123 [==============================] - 1s 8ms/step - loss: 0.0035\n",
      "Epoch: 34\n",
      "123/123 [==============================] - 1s 8ms/step - loss: 0.0035\n",
      "Epoch: 35\n",
      "123/123 [==============================] - 1s 8ms/step - loss: 0.0034\n",
      "Epoch: 36\n",
      "123/123 [==============================] - 1s 8ms/step - loss: 0.0034\n",
      "Epoch: 37\n",
      "123/123 [==============================] - 1s 8ms/step - loss: 0.0034\n",
      "Epoch: 38\n",
      "123/123 [==============================] - 1s 8ms/step - loss: 0.0034\n",
      "Epoch: 39\n",
      "123/123 [==============================] - 1s 8ms/step - loss: 0.0033\n",
      "Epoch: 40\n",
      "123/123 [==============================] - 1s 8ms/step - loss: 0.0033\n",
      "Epoch: 41\n",
      "123/123 [==============================] - 1s 8ms/step - loss: 0.0033\n",
      "Epoch: 42\n",
      "123/123 [==============================] - 1s 8ms/step - loss: 0.0033\n",
      "Epoch: 43\n",
      "123/123 [==============================] - 1s 8ms/step - loss: 0.0033\n",
      "Epoch: 44\n",
      "123/123 [==============================] - 1s 9ms/step - loss: 0.0032\n",
      "Epoch: 45\n",
      "123/123 [==============================] - 1s 9ms/step - loss: 0.0032\n",
      "Epoch: 46\n",
      "123/123 [==============================] - 1s 9ms/step - loss: 0.0032\n",
      "Epoch: 47\n",
      "123/123 [==============================] - 1s 9ms/step - loss: 0.0032\n",
      "Epoch: 48\n",
      "123/123 [==============================] - 1s 9ms/step - loss: 0.0032\n",
      "Epoch: 49\n",
      "123/123 [==============================] - 1s 8ms/step - loss: 0.0031\n",
      "Epoch: 50\n",
      "123/123 [==============================] - 1s 8ms/step - loss: 0.0031\n",
      "Epoch: 51\n",
      "123/123 [==============================] - 1s 8ms/step - loss: 0.0031\n",
      "Epoch: 52\n",
      "123/123 [==============================] - 1s 8ms/step - loss: 0.0031\n",
      "Epoch: 53\n",
      "123/123 [==============================] - 1s 8ms/step - loss: 0.0031\n",
      "Epoch: 54\n",
      "123/123 [==============================] - 1s 8ms/step - loss: 0.0031\n",
      "Epoch: 55\n",
      "123/123 [==============================] - 1s 8ms/step - loss: 0.0030\n",
      "Epoch: 56\n",
      "123/123 [==============================] - 1s 9ms/step - loss: 0.0030\n",
      "Epoch: 57\n",
      "123/123 [==============================] - 1s 9ms/step - loss: 0.0030\n",
      "Epoch: 58\n",
      "123/123 [==============================] - 1s 9ms/step - loss: 0.0030\n",
      "Epoch: 59\n",
      "123/123 [==============================] - 1s 9ms/step - loss: 0.0030\n",
      "Epoch: 60\n",
      "123/123 [==============================] - 1s 9ms/step - loss: 0.0030\n",
      "Epoch: 61\n",
      "123/123 [==============================] - 1s 9ms/step - loss: 0.0030\n",
      "Epoch: 62\n",
      "123/123 [==============================] - 1s 9ms/step - loss: 0.0030\n",
      "Epoch: 63\n",
      "123/123 [==============================] - 1s 9ms/step - loss: 0.0030\n",
      "Epoch: 64\n",
      "123/123 [==============================] - 1s 9ms/step - loss: 0.0030\n",
      "Epoch: 65\n",
      "123/123 [==============================] - 1s 9ms/step - loss: 0.0030\n",
      "Epoch: 66\n",
      "123/123 [==============================] - 1s 8ms/step - loss: 0.0030\n",
      "Epoch: 67\n",
      "123/123 [==============================] - 1s 9ms/step - loss: 0.0030\n",
      "Epoch: 68\n",
      "123/123 [==============================] - 1s 8ms/step - loss: 0.0030\n",
      "Epoch: 69\n",
      "123/123 [==============================] - 1s 9ms/step - loss: 0.0030\n",
      "Epoch: 70\n",
      "123/123 [==============================] - 1s 9ms/step - loss: 0.0030\n",
      "Epoch: 71\n",
      "123/123 [==============================] - 1s 9ms/step - loss: 0.0030\n",
      "Epoch: 72\n",
      "123/123 [==============================] - 1s 8ms/step - loss: 0.0029\n",
      "Epoch: 73\n",
      "123/123 [==============================] - 1s 9ms/step - loss: 0.0029\n",
      "Epoch: 74\n",
      "123/123 [==============================] - 1s 9ms/step - loss: 0.0029\n",
      "Epoch: 75\n",
      "123/123 [==============================] - 1s 9ms/step - loss: 0.0029\n",
      "Epoch: 76\n",
      "123/123 [==============================] - 1s 9ms/step - loss: 0.0029\n",
      "Epoch: 77\n",
      "123/123 [==============================] - 1s 9ms/step - loss: 0.0029\n",
      "Epoch: 78\n",
      "123/123 [==============================] - 1s 8ms/step - loss: 0.0029\n",
      "Epoch: 79\n",
      "123/123 [==============================] - 1s 8ms/step - loss: 0.0029\n",
      "Epoch: 80\n",
      "123/123 [==============================] - 1s 8ms/step - loss: 0.0028\n",
      "Epoch: 81\n",
      "123/123 [==============================] - 1s 8ms/step - loss: 0.0029\n",
      "Epoch: 82\n",
      "123/123 [==============================] - 1s 8ms/step - loss: 0.0029\n",
      "Epoch: 83\n",
      "123/123 [==============================] - 1s 8ms/step - loss: 0.0029\n",
      "Epoch: 84\n",
      "123/123 [==============================] - 1s 9ms/step - loss: 0.0028\n",
      "Epoch: 85\n",
      "123/123 [==============================] - 1s 9ms/step - loss: 0.0028\n",
      "Epoch: 86\n",
      "123/123 [==============================] - 1s 9ms/step - loss: 0.0028\n",
      "Epoch: 87\n",
      "123/123 [==============================] - 1s 8ms/step - loss: 0.0028\n",
      "Epoch: 88\n",
      "123/123 [==============================] - 1s 8ms/step - loss: 0.0028\n",
      "Epoch: 89\n",
      "123/123 [==============================] - 1s 8ms/step - loss: 0.0028\n",
      "Epoch: 90\n",
      "123/123 [==============================] - 1s 8ms/step - loss: 0.0028\n",
      "Epoch: 91\n",
      "123/123 [==============================] - 1s 9ms/step - loss: 0.0028\n",
      "Epoch: 92\n",
      "123/123 [==============================] - 1s 9ms/step - loss: 0.0028\n",
      "Epoch: 93\n",
      "123/123 [==============================] - 1s 8ms/step - loss: 0.0028\n",
      "Epoch: 94\n",
      "123/123 [==============================] - 1s 8ms/step - loss: 0.0027\n",
      "Epoch: 95\n",
      "123/123 [==============================] - 1s 9ms/step - loss: 0.0028\n",
      "Epoch: 96\n",
      "123/123 [==============================] - 1s 9ms/step - loss: 0.0028\n",
      "Epoch: 97\n",
      "123/123 [==============================] - 1s 8ms/step - loss: 0.0027\n",
      "Epoch: 98\n",
      "123/123 [==============================] - 1s 9ms/step - loss: 0.0027\n",
      "Epoch: 99\n",
      "123/123 [==============================] - 1s 9ms/step - loss: 0.0027\n",
      "Epoch: 100\n",
      "123/123 [==============================] - 1s 9ms/step - loss: 0.0027\n",
      "Epoch: 101\n",
      "123/123 [==============================] - 1s 8ms/step - loss: 0.0027\n",
      "Epoch: 102\n"
     ]
    },
    {
     "name": "stdout",
     "output_type": "stream",
     "text": [
      "123/123 [==============================] - 1s 9ms/step - loss: 0.0027\n",
      "Epoch: 103\n",
      "123/123 [==============================] - 1s 8ms/step - loss: 0.0027\n",
      "Epoch: 104\n",
      "123/123 [==============================] - 1s 8ms/step - loss: 0.0027\n",
      "Epoch: 105\n",
      "123/123 [==============================] - 1s 8ms/step - loss: 0.0027\n",
      "Epoch: 106\n",
      "123/123 [==============================] - 1s 9ms/step - loss: 0.0027\n",
      "Epoch: 107\n",
      "123/123 [==============================] - 1s 9ms/step - loss: 0.0027\n",
      "Epoch: 108\n",
      "123/123 [==============================] - 1s 9ms/step - loss: 0.0027\n",
      "Epoch: 109\n",
      "123/123 [==============================] - 1s 8ms/step - loss: 0.0027\n",
      "Epoch: 110\n",
      "123/123 [==============================] - 1s 8ms/step - loss: 0.0027\n",
      "Epoch: 111\n",
      "123/123 [==============================] - 1s 8ms/step - loss: 0.0026\n",
      "Epoch: 112\n",
      "123/123 [==============================] - 1s 8ms/step - loss: 0.0026\n",
      "Epoch: 113\n",
      "123/123 [==============================] - 1s 8ms/step - loss: 0.0026\n",
      "Epoch: 114\n",
      "123/123 [==============================] - 1s 9ms/step - loss: 0.0026\n",
      "Epoch: 115\n",
      "123/123 [==============================] - 1s 9ms/step - loss: 0.0026\n",
      "Epoch: 116\n",
      "123/123 [==============================] - 1s 9ms/step - loss: 0.0026\n",
      "Epoch: 117\n",
      "123/123 [==============================] - 1s 9ms/step - loss: 0.0026\n",
      "Epoch: 118\n",
      "123/123 [==============================] - 1s 9ms/step - loss: 0.0026\n",
      "Epoch: 119\n",
      "123/123 [==============================] - 1s 9ms/step - loss: 0.0026\n"
     ]
    }
   ],
   "source": [
    "epochs = 120\n",
    "for i in range(epochs):\n",
    "    print(\"Epoch: \" + str(i))\n",
    "    regressor_mse.fit(X_train, y_train, shuffle=False, epochs = 1, batch_size = batch_size)\n",
    "    regressor_mse.reset_states()"
   ]
  },
  {
   "cell_type": "code",
   "execution_count": 58,
   "id": "70941b3b",
   "metadata": {},
   "outputs": [],
   "source": [
    "import h5py\n",
    "regressor_mse.save(filepath=\"my_model_with_mse_30_ts.h5\")"
   ]
  },
  {
   "cell_type": "code",
   "execution_count": 59,
   "id": "6d1acdb4",
   "metadata": {},
   "outputs": [],
   "source": [
    "regressor_mse = load_model(filepath=\"my_model_with_mse_30_ts.h5\")"
   ]
  },
  {
   "cell_type": "code",
   "execution_count": 60,
   "id": "ebf5d65d",
   "metadata": {},
   "outputs": [
    {
     "name": "stdout",
     "output_type": "stream",
     "text": [
      "12/12 [==============================] - 1s 5ms/step\n"
     ]
    }
   ],
   "source": [
    "predicted_bcg_values_test_mse = regressor_mse.predict(X_test, batch_size=batch_size)\n",
    "regressor_mse.reset_states()\n",
    "\n",
    "predicted_bcg_values_test_mse = np.reshape(predicted_bcg_values_test_mse, \n",
    "                                       (predicted_bcg_values_test_mse.shape[0], \n",
    "                                        predicted_bcg_values_test_mse.shape[1]))\n",
    "predicted_bcg_values_test_mse = sc.inverse_transform(predicted_bcg_values_test_mse)\n",
    "\n",
    "pred_mse = []\n",
    "\n",
    "for j in range(0, testset_length - timesteps):\n",
    "    pred_mse = np.append(pred_mse, predicted_bcg_values_test_mse[j, timesteps-1])\n",
    "\n",
    "pred_mse = np.reshape(pred_mse, (pred_mse.shape[0], 1))"
   ]
  },
  {
   "cell_type": "code",
   "execution_count": 61,
   "id": "8ddadd77",
   "metadata": {},
   "outputs": [
    {
     "data": {
      "image/png": "[encoded data removed]",
      "text/plain": [
       "<Figure size 432x288 with 1 Axes>"
      ]
     },
     "metadata": {
      "needs_background": "light"
     },
     "output_type": "display_data"
    }
   ],
   "source": [
    "# Visualising the results\n",
    "plt.plot(test_set[timesteps:len(pred_mse)].astype(float), color = 'red', label = 'Real Crude Oil Prices')\n",
    "plt.plot(pred_mse[0:len(pred_mse) - timesteps], color = 'green', label = 'Predicted Crude Oil Prices with MSE')\n",
    "plt.title('Crude Oil Prices Prediction - MSE')\n",
    "plt.xlabel('Time')\n",
    "plt.ylabel('Crude Oil Prices')\n",
    "plt.legend()\n",
    "plt.show()"
   ]
  },
  {
   "cell_type": "code",
   "execution_count": 62,
   "id": "c6d6e0f9",
   "metadata": {},
   "outputs": [
    {
     "name": "stdout",
     "output_type": "stream",
     "text": [
      "2.434514067674344\n"
     ]
    }
   ],
   "source": [
    "from sklearn.metrics import mean_squared_error\n",
    "rmse = math.sqrt(mean_squared_error(test_set[timesteps:len(pred_mse)], pred_mse[0:len(pred_mse) - timesteps]))\n",
    "print(rmse)"
   ]
  },
  {
   "cell_type": "code",
   "execution_count": 63,
   "id": "adb093e1",
   "metadata": {},
   "outputs": [
    {
     "name": "stdout",
     "output_type": "stream",
     "text": [
      "57.805211864406786\n"
     ]
    }
   ],
   "source": [
    "mean = np.mean(np.float64(test_set[timesteps:len(pred_mse)]))\n",
    "print(mean)"
   ]
  },
  {
   "cell_type": "code",
   "execution_count": 64,
   "id": "9defafc4",
   "metadata": {},
   "outputs": [
    {
     "data": {
      "text/plain": [
       "4.211582293625986"
      ]
     },
     "execution_count": 64,
     "metadata": {},
     "output_type": "execute_result"
    }
   ],
   "source": [
    "rmse/mean * 100"
   ]
  },
  {
   "cell_type": "code",
   "execution_count": 65,
   "id": "0a2e6b3a",
   "metadata": {},
   "outputs": [
    {
     "name": "stdout",
     "output_type": "stream",
     "text": [
      "1.852569934823419\n"
     ]
    }
   ],
   "source": [
    "from sklearn.metrics import mean_absolute_error\n",
    "mae = mean_absolute_error(test_set[timesteps:len(pred_mse)], pred_mse[0:len(pred_mse) - timesteps])\n",
    "print(mae)"
   ]
  },
  {
   "cell_type": "code",
   "execution_count": 66,
   "id": "70d78566",
   "metadata": {},
   "outputs": [
    {
     "data": {
      "text/plain": [
       "3.2048493121502215"
      ]
     },
     "execution_count": 66,
     "metadata": {},
     "output_type": "execute_result"
    }
   ],
   "source": [
    "mae/mean * 100"
   ]
  },
  {
   "cell_type": "code",
   "execution_count": null,
   "id": "1e82c080",
   "metadata": {},
   "outputs": [],
   "source": []
  }
 ],
 "metadata": {
  "kernelspec": {
   "display_name": "Python 3 (ipykernel)",
   "language": "python",
   "name": "python3"
  },
  "language_info": {
   "codemirror_mode": {
    "name": "ipython",
    "version": 3
   },
   "file_extension": ".py",
   "mimetype": "text/x-python",
   "name": "python",
   "nbconvert_exporter": "python",
   "pygments_lexer": "ipython3",
   "version": "3.9.7"
  }
 },
 "nbformat": 4,
 "nbformat_minor": 5
}
