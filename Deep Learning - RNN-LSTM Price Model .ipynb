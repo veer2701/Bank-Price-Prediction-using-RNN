{
 "cells": [
  {
   "cell_type": "markdown",
   "id": "f6c42097",
   "metadata": {},
   "source": [
    "# Deep Learning: Long Short-Term Memory (LSTM)\n",
    "\n",
    "## 1. Introduction\n",
    "Twelve years of Banknifty historical stock data will be used to predict Adjusted Close prices by building a multi-layer LSTM Recurrent Neural Network model. The ability to store information over a period of time is useful when dealing with time series data.\n",
    "\n",
    "## 2. Install/import libraries"
   ]
  },
  {
   "cell_type": "code",
   "execution_count": 1,
   "id": "bee38de5",
   "metadata": {},
   "outputs": [],
   "source": [
    "import yfinance as yf\n",
    "\n",
    "import pandas as pd\n",
    "import numpy as np\n",
    "import matplotlib.pyplot as plt\n",
    "import matplotlib.dates as dates\n",
    "import seaborn as sns\n",
    "import math\n",
    "import datetime\n",
    "import keras\n",
    "import warnings\n",
    "warnings.filterwarnings('ignore')\n",
    "\n",
    "from datetime import date, timedelta\n",
    "from keras.models import Sequential\n",
    "from keras.layers import Dense\n",
    "from keras.layers import LSTM\n",
    "from keras.layers import Dropout\n",
    "from keras.layers import *\n",
    "from keras.callbacks import EarlyStopping\n",
    "from sklearn.preprocessing import MinMaxScaler\n",
    "from sklearn.metrics import mean_squared_error\n",
    "from sklearn.metrics import mean_absolute_error\n",
    "\n",
    "%matplotlib inline"
   ]
  },
  {
   "cell_type": "markdown",
   "id": "b56da552",
   "metadata": {},
   "source": [
    "## 3. Import data\n",
    "Read in AstraZeneca stock data for 2014-2019 downloaded from Yahoo! Finance using yfinance API into a pandas DataFrame."
   ]
  },
  {
   "cell_type": "code",
   "execution_count": 2,
   "id": "4ea3391e",
   "metadata": {},
   "outputs": [
    {
     "name": "stdout",
     "output_type": "stream",
     "text": [
      "[*********************100%***********************]  1 of 1 completed\n"
     ]
    },
    {
     "data": {
      "text/html": [
       "<div>\n",
       "<style scoped>\n",
       "    .dataframe tbody tr th:only-of-type {\n",
       "        vertical-align: middle;\n",
       "    }\n",
       "\n",
       "    .dataframe tbody tr th {\n",
       "        vertical-align: top;\n",
       "    }\n",
       "\n",
       "    .dataframe thead th {\n",
       "        text-align: right;\n",
       "    }\n",
       "</style>\n",
       "<table border=\"1\" class=\"dataframe\">\n",
       "  <thead>\n",
       "    <tr style=\"text-align: right;\">\n",
       "      <th></th>\n",
       "      <th>Open</th>\n",
       "      <th>High</th>\n",
       "      <th>Low</th>\n",
       "      <th>Close</th>\n",
       "      <th>Adj Close</th>\n",
       "      <th>Volume</th>\n",
       "    </tr>\n",
       "    <tr>\n",
       "      <th>Date</th>\n",
       "      <th></th>\n",
       "      <th></th>\n",
       "      <th></th>\n",
       "      <th></th>\n",
       "      <th></th>\n",
       "      <th></th>\n",
       "    </tr>\n",
       "  </thead>\n",
       "  <tbody>\n",
       "    <tr>\n",
       "      <th>2010-01-04</th>\n",
       "      <td>9031.900391</td>\n",
       "      <td>9129.450195</td>\n",
       "      <td>9031.900391</td>\n",
       "      <td>9112.349609</td>\n",
       "      <td>9112.349609</td>\n",
       "      <td>0</td>\n",
       "    </tr>\n",
       "    <tr>\n",
       "      <th>2010-01-05</th>\n",
       "      <td>9191.250000</td>\n",
       "      <td>9214.000000</td>\n",
       "      <td>9157.349609</td>\n",
       "      <td>9192.150391</td>\n",
       "      <td>9192.150391</td>\n",
       "      <td>0</td>\n",
       "    </tr>\n",
       "    <tr>\n",
       "      <th>2010-01-06</th>\n",
       "      <td>9243.900391</td>\n",
       "      <td>9265.549805</td>\n",
       "      <td>9183.650391</td>\n",
       "      <td>9223.000000</td>\n",
       "      <td>9223.000000</td>\n",
       "      <td>0</td>\n",
       "    </tr>\n",
       "    <tr>\n",
       "      <th>2010-01-07</th>\n",
       "      <td>9240.250000</td>\n",
       "      <td>9261.849609</td>\n",
       "      <td>9153.250000</td>\n",
       "      <td>9192.950195</td>\n",
       "      <td>9192.950195</td>\n",
       "      <td>0</td>\n",
       "    </tr>\n",
       "    <tr>\n",
       "      <th>2010-01-08</th>\n",
       "      <td>9185.049805</td>\n",
       "      <td>9214.349609</td>\n",
       "      <td>9141.450195</td>\n",
       "      <td>9160.700195</td>\n",
       "      <td>9160.700195</td>\n",
       "      <td>0</td>\n",
       "    </tr>\n",
       "    <tr>\n",
       "      <th>...</th>\n",
       "      <td>...</td>\n",
       "      <td>...</td>\n",
       "      <td>...</td>\n",
       "      <td>...</td>\n",
       "      <td>...</td>\n",
       "      <td>...</td>\n",
       "    </tr>\n",
       "    <tr>\n",
       "      <th>2022-02-08</th>\n",
       "      <td>38176.101562</td>\n",
       "      <td>38222.101562</td>\n",
       "      <td>37319.050781</td>\n",
       "      <td>38028.449219</td>\n",
       "      <td>38028.449219</td>\n",
       "      <td>200200</td>\n",
       "    </tr>\n",
       "    <tr>\n",
       "      <th>2022-02-09</th>\n",
       "      <td>38283.601562</td>\n",
       "      <td>38648.148438</td>\n",
       "      <td>38192.000000</td>\n",
       "      <td>38610.250000</td>\n",
       "      <td>38610.250000</td>\n",
       "      <td>124900</td>\n",
       "    </tr>\n",
       "    <tr>\n",
       "      <th>2022-02-10</th>\n",
       "      <td>38801.449219</td>\n",
       "      <td>39197.199219</td>\n",
       "      <td>38520.000000</td>\n",
       "      <td>39010.949219</td>\n",
       "      <td>39010.949219</td>\n",
       "      <td>147800</td>\n",
       "    </tr>\n",
       "    <tr>\n",
       "      <th>2022-02-11</th>\n",
       "      <td>38567.648438</td>\n",
       "      <td>38790.250000</td>\n",
       "      <td>38396.398438</td>\n",
       "      <td>38517.250000</td>\n",
       "      <td>38517.250000</td>\n",
       "      <td>155000</td>\n",
       "    </tr>\n",
       "    <tr>\n",
       "      <th>2022-02-14</th>\n",
       "      <td>37664.000000</td>\n",
       "      <td>37796.550781</td>\n",
       "      <td>36828.050781</td>\n",
       "      <td>36908.550781</td>\n",
       "      <td>36908.550781</td>\n",
       "      <td>213800</td>\n",
       "    </tr>\n",
       "  </tbody>\n",
       "</table>\n",
       "<p>2701 rows × 6 columns</p>\n",
       "</div>"
      ],
      "text/plain": [
       "                    Open          High           Low         Close  \\\n",
       "Date                                                                 \n",
       "2010-01-04   9031.900391   9129.450195   9031.900391   9112.349609   \n",
       "2010-01-05   9191.250000   9214.000000   9157.349609   9192.150391   \n",
       "2010-01-06   9243.900391   9265.549805   9183.650391   9223.000000   \n",
       "2010-01-07   9240.250000   9261.849609   9153.250000   9192.950195   \n",
       "2010-01-08   9185.049805   9214.349609   9141.450195   9160.700195   \n",
       "...                  ...           ...           ...           ...   \n",
       "2022-02-08  38176.101562  38222.101562  37319.050781  38028.449219   \n",
       "2022-02-09  38283.601562  38648.148438  38192.000000  38610.250000   \n",
       "2022-02-10  38801.449219  39197.199219  38520.000000  39010.949219   \n",
       "2022-02-11  38567.648438  38790.250000  38396.398438  38517.250000   \n",
       "2022-02-14  37664.000000  37796.550781  36828.050781  36908.550781   \n",
       "\n",
       "               Adj Close  Volume  \n",
       "Date                              \n",
       "2010-01-04   9112.349609       0  \n",
       "2010-01-05   9192.150391       0  \n",
       "2010-01-06   9223.000000       0  \n",
       "2010-01-07   9192.950195       0  \n",
       "2010-01-08   9160.700195       0  \n",
       "...                  ...     ...  \n",
       "2022-02-08  38028.449219  200200  \n",
       "2022-02-09  38610.250000  124900  \n",
       "2022-02-10  39010.949219  147800  \n",
       "2022-02-11  38517.250000  155000  \n",
       "2022-02-14  36908.550781  213800  \n",
       "\n",
       "[2701 rows x 6 columns]"
      ]
     },
     "execution_count": 2,
     "metadata": {},
     "output_type": "execute_result"
    }
   ],
   "source": [
    "bn = yf.download(\"^NSEBANK\", start=\"2010-01-01\", end=\"2022-02-15\")\n",
    "bn"
   ]
  },
  {
   "cell_type": "code",
   "execution_count": 36,
   "id": "f8e613a8",
   "metadata": {},
   "outputs": [
    {
     "data": {
      "image/png": "[encoded data removed]",
      "text/plain": [
       "<Figure size 1152x576 with 1 Axes>"
      ]
     },
     "metadata": {},
     "output_type": "display_data"
    }
   ],
   "source": [
    "# Plot Adjusted Close price\n",
    "\n",
    "bn['Adj Close'].plot(grid = True)\n",
    "sns.set(rc={'figure.figsize' : (16, 8)})\n",
    "plt.title('Banknifty Adjusted Close Price', color = 'black', fontsize = 20)\n",
    "plt.xlabel('Year', color = 'black', fontsize = 15)\n",
    "plt.ylabel('Stock price', color = 'black', fontsize = 15);\n"
   ]
  },
  {
   "cell_type": "code",
   "execution_count": 4,
   "id": "05c321f4",
   "metadata": {},
   "outputs": [],
   "source": [
    "# Create DataFrame for Adjusted Close price\n",
    "\n",
    "bn = bn[['Adj Close']]"
   ]
  },
  {
   "cell_type": "code",
   "execution_count": 5,
   "id": "959837bc",
   "metadata": {},
   "outputs": [
    {
     "data": {
      "text/html": [
       "<div>\n",
       "<style scoped>\n",
       "    .dataframe tbody tr th:only-of-type {\n",
       "        vertical-align: middle;\n",
       "    }\n",
       "\n",
       "    .dataframe tbody tr th {\n",
       "        vertical-align: top;\n",
       "    }\n",
       "\n",
       "    .dataframe thead th {\n",
       "        text-align: right;\n",
       "    }\n",
       "</style>\n",
       "<table border=\"1\" class=\"dataframe\">\n",
       "  <thead>\n",
       "    <tr style=\"text-align: right;\">\n",
       "      <th></th>\n",
       "      <th>Adj Close</th>\n",
       "    </tr>\n",
       "    <tr>\n",
       "      <th>Date</th>\n",
       "      <th></th>\n",
       "    </tr>\n",
       "  </thead>\n",
       "  <tbody>\n",
       "    <tr>\n",
       "      <th>2010-01-04</th>\n",
       "      <td>9112.349609</td>\n",
       "    </tr>\n",
       "    <tr>\n",
       "      <th>2010-01-05</th>\n",
       "      <td>9192.150391</td>\n",
       "    </tr>\n",
       "    <tr>\n",
       "      <th>2010-01-06</th>\n",
       "      <td>9223.000000</td>\n",
       "    </tr>\n",
       "    <tr>\n",
       "      <th>2010-01-07</th>\n",
       "      <td>9192.950195</td>\n",
       "    </tr>\n",
       "    <tr>\n",
       "      <th>2010-01-08</th>\n",
       "      <td>9160.700195</td>\n",
       "    </tr>\n",
       "    <tr>\n",
       "      <th>...</th>\n",
       "      <td>...</td>\n",
       "    </tr>\n",
       "    <tr>\n",
       "      <th>2022-02-08</th>\n",
       "      <td>38028.449219</td>\n",
       "    </tr>\n",
       "    <tr>\n",
       "      <th>2022-02-09</th>\n",
       "      <td>38610.250000</td>\n",
       "    </tr>\n",
       "    <tr>\n",
       "      <th>2022-02-10</th>\n",
       "      <td>39010.949219</td>\n",
       "    </tr>\n",
       "    <tr>\n",
       "      <th>2022-02-11</th>\n",
       "      <td>38517.250000</td>\n",
       "    </tr>\n",
       "    <tr>\n",
       "      <th>2022-02-14</th>\n",
       "      <td>36908.550781</td>\n",
       "    </tr>\n",
       "  </tbody>\n",
       "</table>\n",
       "<p>2701 rows × 1 columns</p>\n",
       "</div>"
      ],
      "text/plain": [
       "               Adj Close\n",
       "Date                    \n",
       "2010-01-04   9112.349609\n",
       "2010-01-05   9192.150391\n",
       "2010-01-06   9223.000000\n",
       "2010-01-07   9192.950195\n",
       "2010-01-08   9160.700195\n",
       "...                  ...\n",
       "2022-02-08  38028.449219\n",
       "2022-02-09  38610.250000\n",
       "2022-02-10  39010.949219\n",
       "2022-02-11  38517.250000\n",
       "2022-02-14  36908.550781\n",
       "\n",
       "[2701 rows x 1 columns]"
      ]
     },
     "execution_count": 5,
     "metadata": {},
     "output_type": "execute_result"
    }
   ],
   "source": [
    "bn"
   ]
  },
  {
   "cell_type": "markdown",
   "id": "97399df5",
   "metadata": {},
   "source": [
    "## 4. Create training data set"
   ]
  },
  {
   "cell_type": "code",
   "execution_count": 8,
   "id": "622568d8",
   "metadata": {},
   "outputs": [
    {
     "data": {
      "text/plain": [
       "2160"
      ]
     },
     "execution_count": 8,
     "metadata": {},
     "output_type": "execute_result"
    }
   ],
   "source": [
    "# Convert DataFrame to numpy array\n",
    "bn_arr = bn.values\n",
    "\n",
    "# Find number of rows to train model on (80% of data set) \n",
    "training_data_len = int(0.8*len(bn))\n",
    "\n",
    "training_data_len"
   ]
  },
  {
   "cell_type": "code",
   "execution_count": 9,
   "id": "d25bad29",
   "metadata": {},
   "outputs": [],
   "source": [
    "# Create train data set\n",
    "\n",
    "train = bn_arr[0:training_data_len, :]"
   ]
  },
  {
   "cell_type": "markdown",
   "id": "67981c51",
   "metadata": {},
   "source": [
    "### Feature scaling\n",
    "We will normalise the training data before model fitting by converting the values of numeric columns in the data set to a common scale. Scikit-Learn’s MinMaxScaler() function scales the data to values between 0 and 1 which helps boost performance."
   ]
  },
  {
   "cell_type": "code",
   "execution_count": 10,
   "id": "0fbf3276",
   "metadata": {},
   "outputs": [
    {
     "data": {
      "text/plain": [
       "array([[0.0540116 ],\n",
       "       [0.05729229],\n",
       "       [0.05856055],\n",
       "       ...,\n",
       "       [0.9831445 ],\n",
       "       [0.96787594],\n",
       "       [0.96685226]])"
      ]
     },
     "execution_count": 10,
     "metadata": {},
     "output_type": "execute_result"
    }
   ],
   "source": [
    "# Normalise the data\n",
    "scaler = MinMaxScaler(feature_range=(0,1))\n",
    "train_scaled = scaler.fit_transform(train)\n",
    "\n",
    "train_scaled"
   ]
  },
  {
   "cell_type": "code",
   "execution_count": 11,
   "id": "b716a8b7",
   "metadata": {},
   "outputs": [
    {
     "data": {
      "text/plain": [
       "(2160, 1)"
      ]
     },
     "execution_count": 11,
     "metadata": {},
     "output_type": "execute_result"
    }
   ],
   "source": [
    "train_scaled.shape"
   ]
  },
  {
   "cell_type": "markdown",
   "id": "c18c9420",
   "metadata": {},
   "source": [
    "### Split training data into X_train, y_train"
   ]
  },
  {
   "cell_type": "code",
   "execution_count": 12,
   "id": "f94bb55a",
   "metadata": {},
   "outputs": [
    {
     "name": "stdout",
     "output_type": "stream",
     "text": [
      "[array([0.0540116 , 0.05729229, 0.05856055, 0.05732517, 0.05599934,\n",
      "       0.0565276 , 0.04878023, 0.04635468, 0.04572569, 0.04573802,\n",
      "       0.0532264 , 0.0549798 , 0.05458716, 0.04607514, 0.04004623,\n",
      "       0.03691971, 0.02184021, 0.02570669, 0.03506767, 0.03497312,\n",
      "       0.02752794, 0.03425778, 0.02764918, 0.01745984, 0.02235   ,\n",
      "       0.02441583, 0.020204  , 0.02396156, 0.02113723, 0.02463576,\n",
      "       0.03095452, 0.03187543, 0.02830696, 0.0285639 , 0.0293697 ,\n",
      "       0.02902435, 0.0303913 , 0.03799478, 0.04619024, 0.05101464,\n",
      "       0.04996012, 0.05097353, 0.05539296, 0.05507435, 0.05429528,\n",
      "       0.05707437, 0.05650091, 0.05290779, 0.05362518, 0.05713813,\n",
      "       0.05976509, 0.06052565, 0.05707851, 0.05855645, 0.06247637,\n",
      "       0.06814764, 0.07067183, 0.06872729, 0.06828739, 0.0702669 ])]\n",
      "[array([0.07811292])]\n",
      "\n",
      "[array([0.0540116 , 0.05729229, 0.05856055, 0.05732517, 0.05599934,\n",
      "       0.0565276 , 0.04878023, 0.04635468, 0.04572569, 0.04573802,\n",
      "       0.0532264 , 0.0549798 , 0.05458716, 0.04607514, 0.04004623,\n",
      "       0.03691971, 0.02184021, 0.02570669, 0.03506767, 0.03497312,\n",
      "       0.02752794, 0.03425778, 0.02764918, 0.01745984, 0.02235   ,\n",
      "       0.02441583, 0.020204  , 0.02396156, 0.02113723, 0.02463576,\n",
      "       0.03095452, 0.03187543, 0.02830696, 0.0285639 , 0.0293697 ,\n",
      "       0.02902435, 0.0303913 , 0.03799478, 0.04619024, 0.05101464,\n",
      "       0.04996012, 0.05097353, 0.05539296, 0.05507435, 0.05429528,\n",
      "       0.05707437, 0.05650091, 0.05290779, 0.05362518, 0.05713813,\n",
      "       0.05976509, 0.06052565, 0.05707851, 0.05855645, 0.06247637,\n",
      "       0.06814764, 0.07067183, 0.06872729, 0.06828739, 0.0702669 ]), array([0.05729229, 0.05856055, 0.05732517, 0.05599934, 0.0565276 ,\n",
      "       0.04878023, 0.04635468, 0.04572569, 0.04573802, 0.0532264 ,\n",
      "       0.0549798 , 0.05458716, 0.04607514, 0.04004623, 0.03691971,\n",
      "       0.02184021, 0.02570669, 0.03506767, 0.03497312, 0.02752794,\n",
      "       0.03425778, 0.02764918, 0.01745984, 0.02235   , 0.02441583,\n",
      "       0.020204  , 0.02396156, 0.02113723, 0.02463576, 0.03095452,\n",
      "       0.03187543, 0.02830696, 0.0285639 , 0.0293697 , 0.02902435,\n",
      "       0.0303913 , 0.03799478, 0.04619024, 0.05101464, 0.04996012,\n",
      "       0.05097353, 0.05539296, 0.05507435, 0.05429528, 0.05707437,\n",
      "       0.05650091, 0.05290779, 0.05362518, 0.05713813, 0.05976509,\n",
      "       0.06052565, 0.05707851, 0.05855645, 0.06247637, 0.06814764,\n",
      "       0.07067183, 0.06872729, 0.06828739, 0.0702669 , 0.07811292])]\n",
      "[array([0.07811292]), array([0.07932983])]\n",
      "\n"
     ]
    }
   ],
   "source": [
    "# Creating a data structure with 60 time-steps and 1 output\n",
    "\n",
    "# Split data into X_train and y_train data sets\n",
    "X_train = []\n",
    "y_train = []\n",
    "# Creating a data structure with 60 time-steps and 1 output\n",
    "for i in range(60, len(train_scaled)):\n",
    "    X_train.append(train_scaled[i-60:i, 0])\n",
    "    y_train.append(train_scaled[i:i+1, 0])  \n",
    "    if i <= 61:     # 60 days for first pass, 61 for second\n",
    "        print(X_train)\n",
    "        print(y_train)\n",
    "        print()"
   ]
  },
  {
   "cell_type": "code",
   "execution_count": 13,
   "id": "f0a7724e",
   "metadata": {},
   "outputs": [],
   "source": [
    "# Convert X_train and y_train to numpy arrays for training LSTM model\n",
    "X_train, y_train = np.array(X_train), np.array(y_train)"
   ]
  },
  {
   "cell_type": "code",
   "execution_count": 14,
   "id": "906249de",
   "metadata": {},
   "outputs": [
    {
     "data": {
      "text/plain": [
       "(2100, 60, 1)"
      ]
     },
     "execution_count": 14,
     "metadata": {},
     "output_type": "execute_result"
    }
   ],
   "source": [
    "# Reshape the data as LSTM expects 3-D data (samples, time steps, features)\n",
    "\n",
    "X_train = np.reshape(X_train, (X_train.shape[0], X_train.shape[1], 1))\n",
    "X_train.shape"
   ]
  },
  {
   "cell_type": "markdown",
   "id": "c8203f63",
   "metadata": {},
   "source": [
    "### Create and train model\n",
    "We will create and train a model with four recurrent layers each with 50 neurons, input shape of data with number of time steps (60) and dimensionality (1), and an output layer with time step of 1, and the tanh activation function. Dropout will be used after each hidden layer as a regularisation technique to prevent overfitting. The model will be compiled using the Mean Squared Error loss function and the adam (Adaptive Moment Estimation) optimizer then fitted on the training set for 200 epochs with a batch size of 64."
   ]
  },
  {
   "cell_type": "code",
   "execution_count": 15,
   "id": "68985059",
   "metadata": {},
   "outputs": [
    {
     "name": "stdout",
     "output_type": "stream",
     "text": [
      "Epoch 1/200\n",
      "33/33 [==============================] - 8s 83ms/step - loss: 0.0372\n",
      "Epoch 2/200\n",
      "33/33 [==============================] - 3s 78ms/step - loss: 0.0051\n",
      "Epoch 3/200\n",
      "33/33 [==============================] - 2s 75ms/step - loss: 0.0041\n",
      "Epoch 4/200\n",
      "33/33 [==============================] - 2s 76ms/step - loss: 0.0043\n",
      "Epoch 5/200\n",
      "33/33 [==============================] - 2s 74ms/step - loss: 0.0037\n",
      "Epoch 6/200\n",
      "33/33 [==============================] - 2s 73ms/step - loss: 0.0034\n",
      "Epoch 7/200\n",
      "33/33 [==============================] - 3s 76ms/step - loss: 0.0031\n",
      "Epoch 8/200\n",
      "33/33 [==============================] - 3s 77ms/step - loss: 0.0029\n",
      "Epoch 9/200\n",
      "33/33 [==============================] - 2s 75ms/step - loss: 0.0029\n",
      "Epoch 10/200\n",
      "33/33 [==============================] - 2s 72ms/step - loss: 0.0030\n",
      "Epoch 11/200\n",
      "33/33 [==============================] - 2s 72ms/step - loss: 0.0027\n",
      "Epoch 12/200\n",
      "33/33 [==============================] - 2s 72ms/step - loss: 0.0028\n",
      "Epoch 13/200\n",
      "33/33 [==============================] - 2s 72ms/step - loss: 0.0027\n",
      "Epoch 14/200\n",
      "33/33 [==============================] - 2s 74ms/step - loss: 0.0028\n",
      "Epoch 15/200\n",
      "33/33 [==============================] - 3s 76ms/step - loss: 0.0024\n",
      "Epoch 16/200\n",
      "33/33 [==============================] - 2s 75ms/step - loss: 0.0025\n",
      "Epoch 17/200\n",
      "33/33 [==============================] - 2s 74ms/step - loss: 0.0026\n",
      "Epoch 18/200\n",
      "33/33 [==============================] - 2s 74ms/step - loss: 0.0024\n",
      "Epoch 19/200\n",
      "33/33 [==============================] - 3s 76ms/step - loss: 0.0024\n",
      "Epoch 20/200\n",
      "33/33 [==============================] - 2s 74ms/step - loss: 0.0022\n",
      "Epoch 21/200\n",
      "33/33 [==============================] - 3s 79ms/step - loss: 0.0025\n",
      "Epoch 22/200\n",
      "33/33 [==============================] - 3s 76ms/step - loss: 0.0021\n",
      "Epoch 23/200\n",
      "33/33 [==============================] - 2s 75ms/step - loss: 0.0021\n",
      "Epoch 24/200\n",
      "33/33 [==============================] - 2s 75ms/step - loss: 0.0025\n",
      "Epoch 25/200\n",
      "33/33 [==============================] - 2s 75ms/step - loss: 0.0023\n",
      "Epoch 26/200\n",
      "33/33 [==============================] - 2s 75ms/step - loss: 0.0021\n",
      "Epoch 27/200\n",
      "33/33 [==============================] - 3s 76ms/step - loss: 0.0022\n",
      "Epoch 28/200\n",
      "33/33 [==============================] - 3s 77ms/step - loss: 0.0020\n",
      "Epoch 29/200\n",
      "33/33 [==============================] - 2s 75ms/step - loss: 0.0019\n",
      "Epoch 30/200\n",
      "33/33 [==============================] - 3s 76ms/step - loss: 0.0020\n",
      "Epoch 31/200\n",
      "33/33 [==============================] - 2s 75ms/step - loss: 0.0021\n",
      "Epoch 32/200\n",
      "33/33 [==============================] - 2s 75ms/step - loss: 0.0020\n",
      "Epoch 33/200\n",
      "33/33 [==============================] - 2s 75ms/step - loss: 0.0022\n",
      "Epoch 34/200\n",
      "33/33 [==============================] - 3s 79ms/step - loss: 0.0018\n",
      "Epoch 35/200\n",
      "33/33 [==============================] - 3s 76ms/step - loss: 0.0019\n",
      "Epoch 36/200\n",
      "33/33 [==============================] - 2s 75ms/step - loss: 0.0020\n",
      "Epoch 37/200\n",
      "33/33 [==============================] - 2s 75ms/step - loss: 0.0019\n",
      "Epoch 38/200\n",
      "33/33 [==============================] - 2s 75ms/step - loss: 0.0022\n",
      "Epoch 39/200\n",
      "33/33 [==============================] - 2s 75ms/step - loss: 0.0019\n",
      "Epoch 40/200\n",
      "33/33 [==============================] - 3s 78ms/step - loss: 0.0017\n",
      "Epoch 41/200\n",
      "33/33 [==============================] - 3s 77ms/step - loss: 0.0019\n",
      "Epoch 42/200\n",
      "33/33 [==============================] - 2s 75ms/step - loss: 0.0016\n",
      "Epoch 43/200\n",
      "33/33 [==============================] - 2s 75ms/step - loss: 0.0018\n",
      "Epoch 44/200\n",
      "33/33 [==============================] - 3s 76ms/step - loss: 0.0017\n",
      "Epoch 45/200\n",
      "33/33 [==============================] - 2s 75ms/step - loss: 0.0020\n",
      "Epoch 46/200\n",
      "33/33 [==============================] - 3s 76ms/step - loss: 0.0017\n",
      "Epoch 47/200\n",
      "33/33 [==============================] - 3s 79ms/step - loss: 0.0017\n",
      "Epoch 48/200\n",
      "33/33 [==============================] - 2s 75ms/step - loss: 0.0017\n",
      "Epoch 49/200\n",
      "33/33 [==============================] - 2s 75ms/step - loss: 0.0016\n",
      "Epoch 50/200\n",
      "33/33 [==============================] - 3s 78ms/step - loss: 0.0018\n",
      "Epoch 51/200\n",
      "33/33 [==============================] - 2s 74ms/step - loss: 0.0017\n",
      "Epoch 52/200\n",
      "33/33 [==============================] - 3s 78ms/step - loss: 0.0016\n",
      "Epoch 53/200\n",
      "33/33 [==============================] - 3s 79ms/step - loss: 0.0015\n",
      "Epoch 54/200\n",
      "33/33 [==============================] - 3s 78ms/step - loss: 0.0015\n",
      "Epoch 55/200\n",
      "33/33 [==============================] - 3s 76ms/step - loss: 0.0017\n",
      "Epoch 56/200\n",
      "33/33 [==============================] - 2s 73ms/step - loss: 0.0014\n",
      "Epoch 57/200\n",
      "33/33 [==============================] - 2s 73ms/step - loss: 0.0016\n",
      "Epoch 58/200\n",
      "33/33 [==============================] - 2s 73ms/step - loss: 0.0018\n",
      "Epoch 59/200\n",
      "33/33 [==============================] - 3s 76ms/step - loss: 0.0015\n",
      "Epoch 60/200\n",
      "33/33 [==============================] - 2s 75ms/step - loss: 0.0015\n",
      "Epoch 61/200\n",
      "33/33 [==============================] - 2s 73ms/step - loss: 0.0014\n",
      "Epoch 62/200\n",
      "33/33 [==============================] - 2s 74ms/step - loss: 0.0016\n",
      "Epoch 63/200\n",
      "33/33 [==============================] - 2s 74ms/step - loss: 0.0015\n",
      "Epoch 64/200\n",
      "33/33 [==============================] - 3s 77ms/step - loss: 0.0014\n",
      "Epoch 65/200\n",
      "33/33 [==============================] - 2s 74ms/step - loss: 0.0015\n",
      "Epoch 66/200\n",
      "33/33 [==============================] - 3s 78ms/step - loss: 0.0016\n",
      "Epoch 67/200\n",
      "33/33 [==============================] - 2s 74ms/step - loss: 0.0013\n",
      "Epoch 68/200\n",
      "33/33 [==============================] - 2s 73ms/step - loss: 0.0014\n",
      "Epoch 69/200\n",
      "33/33 [==============================] - 2s 73ms/step - loss: 0.0014\n",
      "Epoch 70/200\n",
      "33/33 [==============================] - 2s 73ms/step - loss: 0.0013\n",
      "Epoch 71/200\n",
      "33/33 [==============================] - 2s 74ms/step - loss: 0.0013\n",
      "Epoch 72/200\n",
      "33/33 [==============================] - 3s 76ms/step - loss: 0.0014\n",
      "Epoch 73/200\n",
      "33/33 [==============================] - 2s 75ms/step - loss: 0.0014\n",
      "Epoch 74/200\n",
      "33/33 [==============================] - 2s 74ms/step - loss: 0.0013\n",
      "Epoch 75/200\n",
      "33/33 [==============================] - 2s 73ms/step - loss: 0.0013\n",
      "Epoch 76/200\n",
      "33/33 [==============================] - 2s 74ms/step - loss: 0.0015\n",
      "Epoch 77/200\n",
      "33/33 [==============================] - 2s 74ms/step - loss: 0.0014\n",
      "Epoch 78/200\n",
      "33/33 [==============================] - 2s 73ms/step - loss: 0.0012\n",
      "Epoch 79/200\n",
      "33/33 [==============================] - 3s 78ms/step - loss: 0.0013\n",
      "Epoch 80/200\n",
      "33/33 [==============================] - 2s 74ms/step - loss: 0.0012\n",
      "Epoch 81/200\n",
      "33/33 [==============================] - 2s 75ms/step - loss: 0.0011\n",
      "Epoch 82/200\n",
      "33/33 [==============================] - 2s 73ms/step - loss: 0.0014\n",
      "Epoch 83/200\n",
      "33/33 [==============================] - 3s 79ms/step - loss: 0.0012\n",
      "Epoch 84/200\n",
      "33/33 [==============================] - 2s 74ms/step - loss: 0.0013\n",
      "Epoch 85/200\n",
      "33/33 [==============================] - 3s 77ms/step - loss: 0.0013\n",
      "Epoch 86/200\n",
      "33/33 [==============================] - 3s 76ms/step - loss: 0.0014\n",
      "Epoch 87/200\n",
      "33/33 [==============================] - 2s 75ms/step - loss: 0.0015\n",
      "Epoch 88/200\n",
      "33/33 [==============================] - 3s 78ms/step - loss: 0.0011\n",
      "Epoch 89/200\n",
      "33/33 [==============================] - 2s 74ms/step - loss: 0.0011\n",
      "Epoch 90/200\n",
      "33/33 [==============================] - 2s 74ms/step - loss: 0.0014\n",
      "Epoch 91/200\n",
      "33/33 [==============================] - 2s 74ms/step - loss: 0.0014\n",
      "Epoch 92/200\n",
      "33/33 [==============================] - 3s 78ms/step - loss: 0.0011\n",
      "Epoch 93/200\n",
      "33/33 [==============================] - 2s 75ms/step - loss: 0.0011\n",
      "Epoch 94/200\n",
      "33/33 [==============================] - 3s 77ms/step - loss: 0.0011\n",
      "Epoch 95/200\n",
      "33/33 [==============================] - 2s 74ms/step - loss: 0.0011\n",
      "Epoch 96/200\n",
      "33/33 [==============================] - 2s 74ms/step - loss: 0.0011\n",
      "Epoch 97/200\n",
      "33/33 [==============================] - 2s 74ms/step - loss: 0.0011\n",
      "Epoch 98/200\n",
      "33/33 [==============================] - 3s 77ms/step - loss: 0.0011\n",
      "Epoch 99/200\n",
      "33/33 [==============================] - 2s 75ms/step - loss: 0.0011\n",
      "Epoch 100/200\n",
      "33/33 [==============================] - 2s 74ms/step - loss: 0.0012\n",
      "Epoch 101/200\n"
     ]
    },
    {
     "name": "stdout",
     "output_type": "stream",
     "text": [
      "33/33 [==============================] - 2s 73ms/step - loss: 0.0011\n",
      "Epoch 102/200\n",
      "33/33 [==============================] - 2s 74ms/step - loss: 0.0012\n",
      "Epoch 103/200\n",
      "33/33 [==============================] - 2s 73ms/step - loss: 0.0011\n",
      "Epoch 104/200\n",
      "33/33 [==============================] - 2s 73ms/step - loss: 0.0011\n",
      "Epoch 105/200\n",
      "33/33 [==============================] - 3s 77ms/step - loss: 0.0012\n",
      "Epoch 106/200\n",
      "33/33 [==============================] - 3s 83ms/step - loss: 0.0011\n",
      "Epoch 107/200\n",
      "33/33 [==============================] - 3s 82ms/step - loss: 0.0010\n",
      "Epoch 108/200\n",
      "33/33 [==============================] - 2s 75ms/step - loss: 0.0010\n",
      "Epoch 109/200\n",
      "33/33 [==============================] - 3s 78ms/step - loss: 0.0011\n",
      "Epoch 110/200\n",
      "33/33 [==============================] - 2s 75ms/step - loss: 0.0013\n",
      "Epoch 111/200\n",
      "33/33 [==============================] - 3s 83ms/step - loss: 0.0010\n",
      "Epoch 112/200\n",
      "33/33 [==============================] - 3s 84ms/step - loss: 0.0012\n",
      "Epoch 113/200\n",
      "33/33 [==============================] - 3s 78ms/step - loss: 0.0012\n",
      "Epoch 114/200\n",
      "33/33 [==============================] - 3s 79ms/step - loss: 0.0011\n",
      "Epoch 115/200\n",
      "33/33 [==============================] - 3s 87ms/step - loss: 0.0011\n",
      "Epoch 116/200\n",
      "33/33 [==============================] - 3s 98ms/step - loss: 0.0010\n",
      "Epoch 117/200\n",
      "33/33 [==============================] - 3s 86ms/step - loss: 0.0010\n",
      "Epoch 118/200\n",
      "33/33 [==============================] - 3s 88ms/step - loss: 0.0012\n",
      "Epoch 119/200\n",
      "33/33 [==============================] - 3s 82ms/step - loss: 9.5888e-04\n",
      "Epoch 120/200\n",
      "33/33 [==============================] - 3s 80ms/step - loss: 9.9196e-04\n",
      "Epoch 121/200\n",
      "33/33 [==============================] - 3s 94ms/step - loss: 9.9624e-04\n",
      "Epoch 122/200\n",
      "33/33 [==============================] - 3s 86ms/step - loss: 9.5216e-04\n",
      "Epoch 123/200\n",
      "33/33 [==============================] - 3s 81ms/step - loss: 9.7963e-04\n",
      "Epoch 124/200\n",
      "33/33 [==============================] - 3s 76ms/step - loss: 9.8839e-04\n",
      "Epoch 125/200\n",
      "33/33 [==============================] - 3s 78ms/step - loss: 9.0302e-04\n",
      "Epoch 126/200\n",
      "33/33 [==============================] - 2s 75ms/step - loss: 0.0010\n",
      "Epoch 127/200\n",
      "33/33 [==============================] - 2s 76ms/step - loss: 9.4834e-04\n",
      "Epoch 128/200\n",
      "33/33 [==============================] - 3s 78ms/step - loss: 0.0010\n",
      "Epoch 129/200\n",
      "33/33 [==============================] - 3s 79ms/step - loss: 0.0011\n",
      "Epoch 130/200\n",
      "33/33 [==============================] - 3s 76ms/step - loss: 8.9821e-04\n",
      "Epoch 131/200\n",
      "33/33 [==============================] - 2s 75ms/step - loss: 8.7514e-04\n",
      "Epoch 132/200\n",
      "33/33 [==============================] - 2s 74ms/step - loss: 9.7911e-04\n",
      "Epoch 133/200\n",
      "33/33 [==============================] - 2s 75ms/step - loss: 8.9238e-04\n",
      "Epoch 134/200\n",
      "33/33 [==============================] - 3s 77ms/step - loss: 9.9551e-04\n",
      "Epoch 135/200\n",
      "33/33 [==============================] - 3s 78ms/step - loss: 8.8396e-04\n",
      "Epoch 136/200\n",
      "33/33 [==============================] - 3s 79ms/step - loss: 0.0010\n",
      "Epoch 137/200\n",
      "33/33 [==============================] - 3s 76ms/step - loss: 8.8187e-04\n",
      "Epoch 138/200\n",
      "33/33 [==============================] - 3s 76ms/step - loss: 9.4855e-04\n",
      "Epoch 139/200\n",
      "33/33 [==============================] - 3s 77ms/step - loss: 8.9306e-04\n",
      "Epoch 140/200\n",
      "33/33 [==============================] - 2s 74ms/step - loss: 8.9680e-04\n",
      "Epoch 141/200\n",
      "33/33 [==============================] - 3s 80ms/step - loss: 0.0011\n",
      "Epoch 142/200\n",
      "33/33 [==============================] - 3s 92ms/step - loss: 0.0010\n",
      "Epoch 143/200\n",
      "33/33 [==============================] - 3s 82ms/step - loss: 9.9817e-04\n",
      "Epoch 144/200\n",
      "33/33 [==============================] - 3s 77ms/step - loss: 8.8392e-04\n",
      "Epoch 145/200\n",
      "33/33 [==============================] - 3s 78ms/step - loss: 9.2113e-04\n",
      "Epoch 146/200\n",
      "33/33 [==============================] - 3s 76ms/step - loss: 8.7109e-04\n",
      "Epoch 147/200\n",
      "33/33 [==============================] - 3s 80ms/step - loss: 0.0011\n",
      "Epoch 148/200\n",
      "33/33 [==============================] - 3s 78ms/step - loss: 9.2313e-04\n",
      "Epoch 149/200\n",
      "33/33 [==============================] - 3s 77ms/step - loss: 9.5178e-04\n",
      "Epoch 150/200\n",
      "33/33 [==============================] - 3s 78ms/step - loss: 9.2569e-04\n",
      "Epoch 151/200\n",
      "33/33 [==============================] - 3s 77ms/step - loss: 9.3230e-04\n",
      "Epoch 152/200\n",
      "33/33 [==============================] - 3s 85ms/step - loss: 8.8322e-04\n",
      "Epoch 153/200\n",
      "33/33 [==============================] - 3s 97ms/step - loss: 8.6682e-04\n",
      "Epoch 154/200\n",
      "33/33 [==============================] - 3s 98ms/step - loss: 8.2963e-04\n",
      "Epoch 155/200\n",
      "33/33 [==============================] - 3s 88ms/step - loss: 9.3821e-04\n",
      "Epoch 156/200\n",
      "33/33 [==============================] - 3s 83ms/step - loss: 8.5483e-04\n",
      "Epoch 157/200\n",
      "33/33 [==============================] - 3s 85ms/step - loss: 8.3179e-04\n",
      "Epoch 158/200\n",
      "33/33 [==============================] - 3s 77ms/step - loss: 8.9286e-04\n",
      "Epoch 159/200\n",
      "33/33 [==============================] - 3s 86ms/step - loss: 8.1419e-04\n",
      "Epoch 160/200\n",
      "33/33 [==============================] - 3s 84ms/step - loss: 8.4193e-04: 1s \n",
      "Epoch 161/200\n",
      "33/33 [==============================] - 3s 82ms/step - loss: 9.3727e-04\n",
      "Epoch 162/200\n",
      "33/33 [==============================] - 3s 80ms/step - loss: 8.2208e-04\n",
      "Epoch 163/200\n",
      "33/33 [==============================] - 3s 78ms/step - loss: 8.1551e-04\n",
      "Epoch 164/200\n",
      "33/33 [==============================] - 3s 80ms/step - loss: 8.4430e-04\n",
      "Epoch 165/200\n",
      "33/33 [==============================] - 3s 79ms/step - loss: 8.0517e-04\n",
      "Epoch 166/200\n",
      "33/33 [==============================] - 2s 74ms/step - loss: 9.2221e-04\n",
      "Epoch 167/200\n",
      "33/33 [==============================] - 2s 76ms/step - loss: 9.6043e-04\n",
      "Epoch 168/200\n",
      "33/33 [==============================] - 3s 81ms/step - loss: 8.0963e-04\n",
      "Epoch 169/200\n",
      "33/33 [==============================] - 3s 84ms/step - loss: 7.7529e-04\n",
      "Epoch 170/200\n",
      "33/33 [==============================] - 3s 86ms/step - loss: 8.7494e-04\n",
      "Epoch 171/200\n",
      "33/33 [==============================] - 3s 87ms/step - loss: 7.7865e-04: 0s - loss: \n",
      "Epoch 172/200\n",
      "33/33 [==============================] - 3s 80ms/step - loss: 9.8793e-04\n",
      "Epoch 173/200\n",
      "33/33 [==============================] - 3s 78ms/step - loss: 8.6606e-04\n",
      "Epoch 174/200\n",
      "33/33 [==============================] - 3s 76ms/step - loss: 8.9937e-04\n",
      "Epoch 175/200\n",
      "33/33 [==============================] - 3s 76ms/step - loss: 8.4761e-04\n",
      "Epoch 176/200\n",
      "33/33 [==============================] - 3s 76ms/step - loss: 7.7615e-04\n",
      "Epoch 177/200\n",
      "33/33 [==============================] - 3s 80ms/step - loss: 9.3544e-04\n",
      "Epoch 178/200\n",
      "33/33 [==============================] - 3s 76ms/step - loss: 8.0605e-04\n",
      "Epoch 179/200\n",
      "33/33 [==============================] - 3s 77ms/step - loss: 7.6061e-04\n",
      "Epoch 180/200\n",
      "33/33 [==============================] - 3s 78ms/step - loss: 8.7111e-04\n",
      "Epoch 181/200\n",
      "33/33 [==============================] - 3s 82ms/step - loss: 7.7507e-04\n",
      "Epoch 182/200\n",
      "33/33 [==============================] - 3s 84ms/step - loss: 7.6679e-04\n",
      "Epoch 183/200\n",
      "33/33 [==============================] - 3s 84ms/step - loss: 8.2815e-04\n",
      "Epoch 184/200\n",
      "33/33 [==============================] - 3s 82ms/step - loss: 9.3544e-04\n",
      "Epoch 185/200\n",
      "33/33 [==============================] - 3s 83ms/step - loss: 8.6301e-04\n",
      "Epoch 186/200\n",
      "33/33 [==============================] - 3s 78ms/step - loss: 8.1510e-04\n",
      "Epoch 187/200\n",
      "33/33 [==============================] - 3s 78ms/step - loss: 9.9915e-04\n",
      "Epoch 188/200\n",
      "33/33 [==============================] - 3s 78ms/step - loss: 8.7992e-04\n",
      "Epoch 189/200\n",
      "33/33 [==============================] - 3s 80ms/step - loss: 7.3241e-04\n",
      "Epoch 190/200\n",
      "33/33 [==============================] - 3s 80ms/step - loss: 7.8391e-04\n",
      "Epoch 191/200\n",
      "33/33 [==============================] - 3s 79ms/step - loss: 8.9017e-04\n",
      "Epoch 192/200\n",
      "33/33 [==============================] - 3s 77ms/step - loss: 8.1144e-04\n",
      "Epoch 193/200\n",
      "33/33 [==============================] - 3s 80ms/step - loss: 7.9207e-04\n",
      "Epoch 194/200\n",
      "33/33 [==============================] - 3s 78ms/step - loss: 8.6591e-04\n",
      "Epoch 195/200\n",
      "33/33 [==============================] - 3s 81ms/step - loss: 8.9478e-04\n",
      "Epoch 196/200\n"
     ]
    },
    {
     "name": "stdout",
     "output_type": "stream",
     "text": [
      "33/33 [==============================] - 3s 81ms/step - loss: 8.0369e-04\n",
      "Epoch 197/200\n",
      "33/33 [==============================] - 3s 82ms/step - loss: 9.4302e-04\n",
      "Epoch 198/200\n",
      "33/33 [==============================] - 3s 83ms/step - loss: 8.0573e-04\n",
      "Epoch 199/200\n",
      "33/33 [==============================] - 3s 78ms/step - loss: 7.8053e-04\n",
      "Epoch 200/200\n",
      "33/33 [==============================] - 3s 79ms/step - loss: 8.8264e-04\n"
     ]
    },
    {
     "data": {
      "text/plain": [
       "<keras.callbacks.History at 0x28ab9d06190>"
      ]
     },
     "execution_count": 15,
     "metadata": {},
     "output_type": "execute_result"
    }
   ],
   "source": [
    "# Build model - LSTM with 50 neurons and 4 hidden layers  \n",
    "\n",
    "model = Sequential()\n",
    "#Adding the first LSTM layer and some Dropout regularisation\n",
    "model.add(LSTM(units = 50, return_sequences = True, input_shape = (X_train.shape[1], 1), activation='tanh'))\n",
    "model.add(Dropout(0.2))\n",
    "# Adding a second LSTM layer and some Dropout regularisation\n",
    "model.add(LSTM(units = 50, return_sequences = True, activation='tanh'))\n",
    "model.add(Dropout(0.2))\n",
    "# Adding a third LSTM layer and some Dropout regularisation\n",
    "model.add(LSTM(units = 50, return_sequences = True, activation='tanh'))\n",
    "model.add(Dropout(0.2))\n",
    "# Adding a fourth LSTM layer and some Dropout regularisation\n",
    "model.add(LSTM(units = 50, activation='tanh'))\n",
    "model.add(Dropout(0.2))\n",
    "# Adding the output layer\n",
    "model.add(Dense(units = 1))\n",
    "# Compiling the RNN\n",
    "model.compile(optimizer = 'adam', loss = 'mean_squared_error')\n",
    "# Fitting the RNN to the Training set\n",
    "model.fit(X_train, y_train, epochs = 200, batch_size = 64)"
   ]
  },
  {
   "cell_type": "markdown",
   "id": "e3cc2da9",
   "metadata": {},
   "source": [
    "### Create test set"
   ]
  },
  {
   "cell_type": "code",
   "execution_count": 16,
   "id": "a5d971c4",
   "metadata": {},
   "outputs": [],
   "source": [
    "test = bn_arr[training_data_len: , :]"
   ]
  },
  {
   "cell_type": "code",
   "execution_count": 17,
   "id": "023b5df2",
   "metadata": {},
   "outputs": [
    {
     "data": {
      "text/plain": [
       "(541, 1)"
      ]
     },
     "execution_count": 17,
     "metadata": {},
     "output_type": "execute_result"
    }
   ],
   "source": [
    "test.shape"
   ]
  },
  {
   "cell_type": "code",
   "execution_count": 18,
   "id": "72acdccd",
   "metadata": {},
   "outputs": [],
   "source": [
    "# Predicting 253 values, using past 60 from the train data\n",
    "inputs = bn_arr[len(bn_arr) - len(test) - 60:]\n",
    "inputs = inputs.reshape(-1,1)\n",
    "inputs  = scaler.transform(inputs)"
   ]
  },
  {
   "cell_type": "code",
   "execution_count": 19,
   "id": "0bc5003f",
   "metadata": {},
   "outputs": [],
   "source": [
    "# Create data sets X_test and y_test\n",
    "X_test = []\n",
    "y_test = bn_arr[training_data_len:, :]\n",
    "for i in range(60,inputs.shape[0]):\n",
    "    X_test.append(inputs[i-60:i,0])"
   ]
  },
  {
   "cell_type": "code",
   "execution_count": 20,
   "id": "b9018cf6",
   "metadata": {},
   "outputs": [],
   "source": [
    "# Convert data to numpy array\n",
    "X_test = np.array(X_test)"
   ]
  },
  {
   "cell_type": "code",
   "execution_count": 21,
   "id": "454d20ce",
   "metadata": {},
   "outputs": [],
   "source": [
    "# Reshape data to be 3-D\n",
    "X_test = np.reshape(X_test, (X_test.shape[0], X_test.shape[1], 1))"
   ]
  },
  {
   "cell_type": "code",
   "execution_count": 22,
   "id": "3f1b8807",
   "metadata": {},
   "outputs": [
    {
     "name": "stdout",
     "output_type": "stream",
     "text": [
      "(541, 60, 1)\n"
     ]
    }
   ],
   "source": [
    "print(X_test.shape)"
   ]
  },
  {
   "cell_type": "markdown",
   "id": "3aa751ed",
   "metadata": {},
   "source": [
    "### Make Predictions using the test set"
   ]
  },
  {
   "cell_type": "code",
   "execution_count": 23,
   "id": "8fc4fde1",
   "metadata": {},
   "outputs": [],
   "source": [
    "# We want predictions to contain same values as y_test data set\n",
    "predictions = model.predict(X_test)\n",
    "predictions = scaler.inverse_transform(predictions)"
   ]
  },
  {
   "cell_type": "code",
   "execution_count": 24,
   "id": "2774d020",
   "metadata": {},
   "outputs": [
    {
     "data": {
      "text/plain": [
       "(541, 1)"
      ]
     },
     "execution_count": 24,
     "metadata": {},
     "output_type": "execute_result"
    }
   ],
   "source": [
    "predictions.shape"
   ]
  },
  {
   "cell_type": "markdown",
   "id": "4ec8baec",
   "metadata": {},
   "source": [
    "### Calculate the RMSE using the actual values\n",
    "RMSE is the standard deviation of the residuals and is a good measure of how accurately the model predicts the reponse. Lower values of RMSE indicate a better fit."
   ]
  },
  {
   "cell_type": "code",
   "execution_count": 25,
   "id": "9fc3e212",
   "metadata": {},
   "outputs": [
    {
     "data": {
      "text/plain": [
       "144.68134458756933"
      ]
     },
     "execution_count": 25,
     "metadata": {},
     "output_type": "execute_result"
    }
   ],
   "source": [
    "rmse = np.sqrt(np.mean(predictions - y_test)**2)  \n",
    "rmse"
   ]
  },
  {
   "cell_type": "code",
   "execution_count": 27,
   "id": "0cafdd6e",
   "metadata": {},
   "outputs": [
    {
     "data": {
      "image/png": "[encoded data removed]",
      "text/plain": [
       "<Figure size 1440x720 with 1 Axes>"
      ]
     },
     "metadata": {},
     "output_type": "display_data"
    }
   ],
   "source": [
    "# Plot predicted vs actual values  \n",
    "train = bn[:training_data_len]\n",
    "test = bn[training_data_len:]\n",
    "test['Predictions'] = predictions\n",
    "\n",
    "plt.figure(figsize=(20,10))\n",
    "sns.set_style(\"whitegrid\")\n",
    "plt.plot(train['Adj Close'], label='Training')\n",
    "plt.plot(test['Adj Close'], label='Actual')\n",
    "plt.plot(test['Predictions'], label='Predicted')\n",
    "plt.title(\"Bank Nifty Close Price - LSTM\", color = 'black', fontsize = 20)\n",
    "plt.xlabel('Year', color = 'black', fontsize = 15)\n",
    "plt.ylabel('Stock Price', color = 'black', fontsize = 15)\n",
    "plt.legend();"
   ]
  },
  {
   "cell_type": "markdown",
   "id": "c716c060",
   "metadata": {},
   "source": [
    "## DataFrame of actual vs predicted prices plotted above"
   ]
  },
  {
   "cell_type": "code",
   "execution_count": 28,
   "id": "034abc44",
   "metadata": {},
   "outputs": [
    {
     "data": {
      "text/html": [
       "<div>\n",
       "<style scoped>\n",
       "    .dataframe tbody tr th:only-of-type {\n",
       "        vertical-align: middle;\n",
       "    }\n",
       "\n",
       "    .dataframe tbody tr th {\n",
       "        vertical-align: top;\n",
       "    }\n",
       "\n",
       "    .dataframe thead th {\n",
       "        text-align: right;\n",
       "    }\n",
       "</style>\n",
       "<table border=\"1\" class=\"dataframe\">\n",
       "  <thead>\n",
       "    <tr style=\"text-align: right;\">\n",
       "      <th></th>\n",
       "      <th>Adj Close</th>\n",
       "      <th>Predictions</th>\n",
       "    </tr>\n",
       "    <tr>\n",
       "      <th>Date</th>\n",
       "      <th></th>\n",
       "      <th></th>\n",
       "    </tr>\n",
       "  </thead>\n",
       "  <tbody>\n",
       "    <tr>\n",
       "      <th>2019-12-10</th>\n",
       "      <td>31160.349609</td>\n",
       "      <td>31704.130859</td>\n",
       "    </tr>\n",
       "    <tr>\n",
       "      <th>2019-12-11</th>\n",
       "      <td>31256.750000</td>\n",
       "      <td>31585.912109</td>\n",
       "    </tr>\n",
       "    <tr>\n",
       "      <th>2019-12-12</th>\n",
       "      <td>31665.449219</td>\n",
       "      <td>31524.244141</td>\n",
       "    </tr>\n",
       "    <tr>\n",
       "      <th>2019-12-13</th>\n",
       "      <td>32014.250000</td>\n",
       "      <td>31597.787109</td>\n",
       "    </tr>\n",
       "    <tr>\n",
       "      <th>2019-12-16</th>\n",
       "      <td>31974.199219</td>\n",
       "      <td>31765.111328</td>\n",
       "    </tr>\n",
       "    <tr>\n",
       "      <th>...</th>\n",
       "      <td>...</td>\n",
       "      <td>...</td>\n",
       "    </tr>\n",
       "    <tr>\n",
       "      <th>2022-02-08</th>\n",
       "      <td>38028.449219</td>\n",
       "      <td>37585.714844</td>\n",
       "    </tr>\n",
       "    <tr>\n",
       "      <th>2022-02-09</th>\n",
       "      <td>38610.250000</td>\n",
       "      <td>37550.503906</td>\n",
       "    </tr>\n",
       "    <tr>\n",
       "      <th>2022-02-10</th>\n",
       "      <td>39010.949219</td>\n",
       "      <td>37563.757812</td>\n",
       "    </tr>\n",
       "    <tr>\n",
       "      <th>2022-02-11</th>\n",
       "      <td>38517.250000</td>\n",
       "      <td>37627.121094</td>\n",
       "    </tr>\n",
       "    <tr>\n",
       "      <th>2022-02-14</th>\n",
       "      <td>36908.550781</td>\n",
       "      <td>37669.175781</td>\n",
       "    </tr>\n",
       "  </tbody>\n",
       "</table>\n",
       "<p>541 rows × 2 columns</p>\n",
       "</div>"
      ],
      "text/plain": [
       "               Adj Close   Predictions\n",
       "Date                                  \n",
       "2019-12-10  31160.349609  31704.130859\n",
       "2019-12-11  31256.750000  31585.912109\n",
       "2019-12-12  31665.449219  31524.244141\n",
       "2019-12-13  32014.250000  31597.787109\n",
       "2019-12-16  31974.199219  31765.111328\n",
       "...                  ...           ...\n",
       "2022-02-08  38028.449219  37585.714844\n",
       "2022-02-09  38610.250000  37550.503906\n",
       "2022-02-10  39010.949219  37563.757812\n",
       "2022-02-11  38517.250000  37627.121094\n",
       "2022-02-14  36908.550781  37669.175781\n",
       "\n",
       "[541 rows x 2 columns]"
      ]
     },
     "execution_count": 28,
     "metadata": {},
     "output_type": "execute_result"
    }
   ],
   "source": [
    "# Show the actual and predicted prices  \n",
    "\n",
    "test"
   ]
  },
  {
   "cell_type": "markdown",
   "id": "3f27adfc",
   "metadata": {},
   "source": [
    "### Predict Adjusted Close price for 15 Feb 2022"
   ]
  },
  {
   "cell_type": "code",
   "execution_count": 30,
   "id": "7247cb64",
   "metadata": {},
   "outputs": [
    {
     "name": "stdout",
     "output_type": "stream",
     "text": [
      "[*********************100%***********************]  1 of 1 completed\n",
      "[[37584.887]]\n"
     ]
    }
   ],
   "source": [
    "# Predict Adjusted Close price for AZN stock for 11 Jul 2019   \n",
    "# get the quote\n",
    "bn_quote = yf.download(\"^NSEBANK\", start=\"2010-01-01\", end=\"2022-02-15\")\n",
    "# Create new df\n",
    "new_df = bn_quote.filter(['Adj Close'])\n",
    "# Get last 60 days closing price and convert df to array])\n",
    "last_60_days = new_df[-60:].values\n",
    "# Scale data to be values between 0 and 1\n",
    "last_60_days_scaled = scaler.transform(last_60_days)\n",
    "# Create empty list\n",
    "X_test = []\n",
    "# Append last 60 days \n",
    "X_test.append(last_60_days_scaled)\n",
    "# Convert the X_test data set to numpy array\n",
    "X_test = np.array(X_test)\n",
    "# Reshape data\n",
    "X_test = np.reshape(X_test, (X_test.shape[0], X_test.shape[1], 1))\n",
    "# Get predicted price\n",
    "pred_price = model.predict(X_test)\n",
    "# Undo the scaling\n",
    "pred_price = scaler.inverse_transform(pred_price)\n",
    "print(pred_price)"
   ]
  },
  {
   "cell_type": "markdown",
   "id": "fef40890",
   "metadata": {},
   "source": [
    "### Actual Adjusted Close price for 15 Feb 2022"
   ]
  },
  {
   "cell_type": "code",
   "execution_count": 35,
   "id": "eaf9c98f",
   "metadata": {},
   "outputs": [
    {
     "name": "stdout",
     "output_type": "stream",
     "text": [
      "[*********************100%***********************]  1 of 1 completed\n",
      "Date\n",
      "2022-02-15    38170.101562\n",
      "Name: Adj Close, dtype: float64\n"
     ]
    }
   ],
   "source": [
    "# Actual price\n",
    "bn_quote2 = yf.download(\"^NSEBANK\", start=\"2022-02-15\", end=\"2022-02-16\")\n",
    "print(bn_quote2['Adj Close'])"
   ]
  },
  {
   "cell_type": "markdown",
   "id": "ddf6183b",
   "metadata": {},
   "source": [
    "The predicted Adjusted Close price for 15 Feb 2022 was 37584.88, lower than the actual price of 38170.10. Accuracy could be improved by trying different numbers of layers, epochs and batch sizes."
   ]
  },
  {
   "cell_type": "code",
   "execution_count": null,
   "id": "75ca6a96",
   "metadata": {},
   "outputs": [],
   "source": []
  }
 ],
 "metadata": {
  "kernelspec": {
   "display_name": "Python 3 (ipykernel)",
   "language": "python",
   "name": "python3"
  },
  "language_info": {
   "codemirror_mode": {
    "name": "ipython",
    "version": 3
   },
   "file_extension": ".py",
   "mimetype": "text/x-python",
   "name": "python",
   "nbconvert_exporter": "python",
   "pygments_lexer": "ipython3",
   "version": "3.9.7"
  }
 },
 "nbformat": 4,
 "nbformat_minor": 5
}
